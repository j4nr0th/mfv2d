{
  "cells": [
    {
      "cell_type": "markdown",
      "metadata": {},
      "source": [
        "\n# Linear Advection-Diffusion\n\nThis example shows how linear advection-diffusion equation can be solved. There\nare of course two main ways:\n\n- direct formulation\n- mixed formulation\n\nBoth case solve the same equation, given by\nformulation. This means that the equation :eq:`steady-adv-dif-equation`.\nWith differential geometry it is written as either\n:eq:`steady-adv-dif-diff-direct` for the direct formulation or as\n:eq:`steady-adv-dif-diff-mixed` in the mixed formulation.\n\n\n\\begin{align}:label: steady-adv-dif-equation\n\n    \\vec{a}(x, y) \\cdot \\nabla u + \\nu \\nabla^2 u = -f\n    \\quad \\vec{a} = \\begin{bmatrix} a_x(x, y) \\\\ a_y(x, y) \\end{bmatrix}\\end{align}\n\n\\begin{align}:label: steady-adv-dif-diff-direct\n\n    \\mathrm{d} i_{\\hat{a}} \\mathrm{d} u^{(0)} + \\nu \\star \\mathrm{d} \\star \\mathrm{d}\n    u^{(0)} = -f^{(0)} \\quad \\hat{a} = \\begin{bmatrix} a_y \\\\ -a_x \\end{bmatrix}\\end{align}\n\n\\begin{align}:label: steady-adv-dif-diff-mixed\n\n    -\\star i_{\\vec{a}} \\mathrm{d} \\star  u^{(2)} + \\nu \\mathrm{d} \\star \\mathrm{d}\n    \\star \\mathrm{d} u^{(2)} = -f^{(2)} \\quad \\vec{a} = \\begin{bmatrix} a_x(x, y)\n    \\\\ a_y(x, y) \\end{bmatrix}\\end{align}\n\nThe formulation explored here is the mixed formulation given by equation\n:eq:`steady-adv-dif-diff-mixed`. It can also be noted that the problem is quite\nsimilar to the mixed Poisson problem, with the only difference being the advective\nterm with the interior product. As such, for anything not explicitly covered here,\nplease refer back to `sphx_glr_auto_examples_steady_plot_mixed_poisson.py`.\n\nAs with the mixed Poisson, error for this case will be measured in two ways - with the\n$L^2$ norm and with the $H^1$ norm.\n"
      ]
    },
    {
      "cell_type": "code",
      "execution_count": null,
      "metadata": {
        "collapsed": false
      },
      "outputs": [],
      "source": [
        "import numpy as np\nimport numpy.typing as npt\nimport pyvista as pv\nimport rmsh\nfrom matplotlib import pyplot as plt\nfrom mfv2d import (\n    KFormSystem,\n    KFormUnknown,\n    Mesh2D,\n    SolverSettings,\n    SystemSettings,\n    UnknownFormOrder,\n    solve_system_2d,\n)"
      ]
    },
    {
      "cell_type": "markdown",
      "metadata": {},
      "source": [
        "## Problem Setup\n\nThe problem setup is very similar to the mixed Poisson problem, but now with an\naddition of the advection vector field, which is given by :eq:`steady-adv-dif-a-field`.\nThe presence of the advection term is also changes the source term of the equation.\n\n\\begin{align}:label: steady-adv-dif-a-field\n\n    \\vec{a} = \\begin{bmatrix} 3 y - x \\\\ 2 - y \\end{bmatrix}\\end{align}\n\n\n"
      ]
    },
    {
      "cell_type": "code",
      "execution_count": null,
      "metadata": {
        "collapsed": false
      },
      "outputs": [],
      "source": [
        "NU = -0.05\n\n\ndef a_field(x: npt.NDArray[np.floating], y: npt.NDArray[np.floating]):\n    \"\"\"Advection vector field.\"\"\"\n    return np.stack(((3 * y - x), (2 - y + 0 * x)), axis=-1)\n\n\ndef u_exact(x: npt.NDArray[np.floating], y: npt.NDArray[np.floating]):\n    \"\"\"Exact solution.\"\"\"\n    return 2 * np.cos(np.pi / 2 * x) * np.cos(np.pi / 2 * y)\n\n\ndef q_exact(x: npt.NDArray[np.floating], y: npt.NDArray[np.floating]):\n    \"\"\"Exact gradient of solution.\"\"\"\n    return np.stack(\n        (\n            -np.pi * np.sin(np.pi / 2 * x) * np.cos(np.pi / 2 * y),\n            -np.pi * np.cos(np.pi / 2 * x) * np.sin(np.pi / 2 * y),\n        ),\n        axis=-1,\n    )\n\n\ndef source_exact(x: npt.NDArray[np.floating], y: npt.NDArray[np.floating]):\n    \"\"\"Exact source term.\"\"\"\n    return (\n        np.sum(a_field(x, y) * q_exact(x, y), axis=-1) - NU * np.pi**2 * u_exact(x, y) / 2\n    )"
      ]
    },
    {
      "cell_type": "markdown",
      "metadata": {},
      "source": [
        "## System Setup\n\nAs expected, the system now has the interior product term added, together with the\ndiffusion coefficient $\\nu$ being added.\n\n\n"
      ]
    },
    {
      "cell_type": "code",
      "execution_count": null,
      "metadata": {
        "collapsed": false
      },
      "outputs": [],
      "source": [
        "u = KFormUnknown(\"u\", UnknownFormOrder.FORM_ORDER_2)\nv = u.weight\nq = KFormUnknown(\"q\", UnknownFormOrder.FORM_ORDER_1)\np = q.weight\n\nsystem = KFormSystem(\n    p.derivative * u - p * q == p ^ u_exact,\n    NU * (v * q.derivative) - (v * (a_field * ~q)) == -(v * source_exact),\n    sorting=lambda f: f.order,\n)\nprint(system)"
      ]
    },
    {
      "cell_type": "markdown",
      "metadata": {},
      "source": [
        "## Making the Mesh\n\nThe mesh is exactly the same as was the case for the mixed Poisson example.\n\n"
      ]
    },
    {
      "cell_type": "code",
      "execution_count": null,
      "metadata": {
        "collapsed": false
      },
      "outputs": [],
      "source": [
        "N = 6\nn1 = N\nn2 = N\n\nm, rx, ry = rmsh.create_elliptical_mesh(\n    rmsh.MeshBlock(\n        None,\n        rmsh.BoundaryCurve.from_knots(\n            n1, (-1, -1), (-0.5, -1.1), (+0.5, -0.6), (+1, -1)\n        ),  # bottom\n        rmsh.BoundaryCurve.from_knots(\n            n2, (+1, -1), (+1.5, -0.7), (+1, 0.0), (+1, +1)\n        ),  # right\n        rmsh.BoundaryCurve.from_knots(\n            n1, (+1, +1), (0.5, 0.5), (-0.5, 0.5), (-1, +1)\n        ),  # top\n        rmsh.BoundaryCurve.from_knots(\n            n2, (-1, +1), (-0.5, 0.33), (-1, -0.5), (-1, -1)\n        ),  # left\n    )\n)\nassert rx < 1e-6 and ry < 1e-6\nfig, ax = plt.subplots(1, 1)\nxlim, ylim = m.plot(ax)\nax.set_xlim(1.1 * xlim[0], 1.1 * xlim[1])\nax.set_ylim(1.1 * ylim[0], 1.1 * ylim[1])\nax.set_aspect(\"equal\")\nplt.show()"
      ]
    },
    {
      "cell_type": "markdown",
      "metadata": {},
      "source": [
        "## Check the Result\n\nBefore checking the convergence, let us first just check on how the solution\nlooks.\n\n"
      ]
    },
    {
      "cell_type": "code",
      "execution_count": null,
      "metadata": {
        "collapsed": false
      },
      "outputs": [],
      "source": [
        "pval = 3\nmsh = Mesh2D(pval, np.stack((m.pos_x, m.pos_y), axis=-1), m.lines + 1, m.surfaces)\n\nsolution, stats = solve_system_2d(\n    msh,\n    system_settings=SystemSettings(system),\n    solver_settings=SolverSettings(absolute_tolerance=1e-10, relative_tolerance=0),\n    print_residual=False,\n    recon_order=25,\n)\n\n\nsol: pv.UnstructuredGrid = solution[-1]\npv.set_plot_theme(\"document\")\nplotter = pv.Plotter(shape=(1, 3), window_size=(1600, 800), off_screen=True)\n\nplotter.subplot(0, 0)\nplotter.add_mesh(sol.copy(), scalars=u.label, show_scalar_bar=True)\nplotter.add_text(\"Computed\")\nplotter.view_xy()\n\nsol.point_data[\"u_exact\"] = u_exact(sol.points[:, 0], sol.points[:, 1])\nplotter.subplot(0, 1)\nplotter.add_mesh(sol.copy(), scalars=\"u_exact\", show_scalar_bar=True)\nplotter.add_text(\"Exact\")\nplotter.view_xy()\n\nsol.point_data[\"abs_error\"] = np.abs(sol.point_data[\"u_exact\"] - sol.point_data[u.label])\nplotter.subplot(0, 2)\nplotter.add_mesh(sol.copy(), scalars=\"abs_error\", show_scalar_bar=True, log_scale=True)\nplotter.add_text(\"Absolute Error\")\nplotter.view_xy()"
      ]
    },
    {
      "cell_type": "markdown",
      "metadata": {},
      "source": [
        "## Solve for Different Orders\n\nSo we solve for different orders.\n\n"
      ]
    },
    {
      "cell_type": "code",
      "execution_count": null,
      "metadata": {
        "collapsed": false
      },
      "outputs": [],
      "source": [
        "p_vals = np.arange(1, 7)\nh1_err = np.zeros(p_vals.size)\nl2_err = np.zeros(p_vals.size)\n\nfor ip, pval in enumerate(p_vals):\n    msh = Mesh2D(pval, np.stack((m.pos_x, m.pos_y), axis=-1), m.lines + 1, m.surfaces)\n\n    solution, stats = solve_system_2d(\n        msh,\n        system_settings=SystemSettings(system),\n        solver_settings=SolverSettings(absolute_tolerance=1e-10, relative_tolerance=0),\n        print_residual=False,\n        recon_order=25,\n    )\n\n    sol = solution[-1]\n\n    sol.point_data[\"q_err2\"] = np.linalg.norm(\n        sol.point_data[\"q\"] - q_exact(sol.points[:, 0], sol.points[:, 1]), axis=-1\n    )\n    sol.point_data[\"u_err2\"] = (\n        sol.point_data[\"u\"] - u_exact(sol.points[:, 0], sol.points[:, 1])\n    ) ** 2\n\n    total_error = sol.integrate_data()\n    h1_err[ip] = total_error.point_data[\"q_err2\"][0]\n    l2_err[ip] = np.sqrt(total_error.point_data[\"u_err2\"])[0]\n    print(f\"Finished {pval=:d}\")"
      ]
    },
    {
      "cell_type": "markdown",
      "metadata": {},
      "source": [
        "## Plot Results\n\nHere we plot the results.\n\n### $H^1$ Norm\n\n\n"
      ]
    },
    {
      "cell_type": "code",
      "execution_count": null,
      "metadata": {
        "collapsed": false
      },
      "outputs": [],
      "source": [
        "k1, k0 = np.polyfit((p_vals), np.log(h1_err), 1)\nk1, k0 = np.exp(k1), np.exp(k0)\n\nprint(f\"Solution converges with p as: {k0:.3g} * ({k1:.3g}) ** p in H1 norm\")\nplt.figure()\n\nplt.scatter(p_vals, h1_err)\nplt.semilogy(\n    p_vals,\n    k0 * k1**p_vals,\n    label=f\"${k0:.3g} \\\\cdot \\\\left( {{{k1:+.3g}}}^p \\\\right)$\",\n    linestyle=\"dashed\",\n)\nplt.gca().set(\n    xlabel=\"$p$\",\n    ylabel=\"$\\\\int\\\\left|\\\\left| q - \\\\bar{q} \\\\right|\\\\right|$\",\n    yscale=\"log\",\n)\nplt.legend()\nplt.grid()\nplt.show()"
      ]
    },
    {
      "cell_type": "markdown",
      "metadata": {},
      "source": [
        "### $L^2$ Norm\n\n\n"
      ]
    },
    {
      "cell_type": "code",
      "execution_count": null,
      "metadata": {
        "collapsed": false
      },
      "outputs": [],
      "source": [
        "k1, k0 = np.polyfit((p_vals), np.log(l2_err), 1)\nk1, k0 = np.exp(k1), np.exp(k0)\n\nprint(f\"Solution converges with p as: {k0:.3g} * ({k1:.3g}) ** p in L2 norm.\")\nplt.figure()\n\nplt.scatter(p_vals, l2_err)\nplt.semilogy(\n    p_vals,\n    k0 * k1**p_vals,\n    label=f\"${k0:.3g} \\\\cdot \\\\left( {{{k1:+.3g}}}^p \\\\right)$\",\n    linestyle=\"dashed\",\n)\nplt.gca().set(\n    xlabel=\"$p$\",\n    ylabel=\"$\\\\varepsilon_{L^2}$\",\n    yscale=\"log\",\n)\nplt.legend()\nplt.grid()\nplt.show()"
      ]
    }
  ],
  "metadata": {
    "kernelspec": {
      "display_name": "Python 3",
      "language": "python",
      "name": "python3"
    },
    "language_info": {
      "codemirror_mode": {
        "name": "ipython",
        "version": 3
      },
      "file_extension": ".py",
      "mimetype": "text/x-python",
      "name": "python",
      "nbconvert_exporter": "python",
      "pygments_lexer": "ipython3",
      "version": "3.13.5"
    }
  },
  "nbformat": 4,
  "nbformat_minor": 0
}