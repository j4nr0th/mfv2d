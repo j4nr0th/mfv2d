{
  "cells": [
    {
      "cell_type": "markdown",
      "metadata": {},
      "source": [
        "\n.. currentmodule:: mfv2d\n\n# Post-Solver p-Refinement\n\nAs mentioned in `sphx_glr_auto_examples_steady_plot_direct_poisson_refined_pre.py` example,\nrefinement can be done \"post-solver\" as well. This means that mesh refinement is performed after\nthe solver finishes running. This does not change the computed solution, but allows for next solve\nto be more accurate, if repeated.\n\nThe setup for the run is the same as one in `sphx_glr_auto_examples_steady_plot_direct_poisson_refined_pre.py`,\nso it will be only briefly mentioned.\n"
      ]
    },
    {
      "cell_type": "code",
      "execution_count": null,
      "metadata": {
        "collapsed": false
      },
      "outputs": [],
      "source": [
        "import numpy as np\nimport numpy.typing as npt\nimport pyvista as pv\nimport rmsh\nfrom matplotlib import pyplot as plt\nfrom matplotlib.collections import PolyCollection\nfrom mfv2d import (\n    BoundaryCondition2DSteady,\n    KFormSystem,\n    KFormUnknown,\n    Mesh,\n    RefinementLimitElementCount,  # Need a refinement limit\n    RefinementSettings,  # Need refinement settings\n    SystemSettings,\n    UnknownFormOrder,\n    mesh_create,\n    solve_system_2d,\n)"
      ]
    },
    {
      "cell_type": "markdown",
      "metadata": {},
      "source": [
        "## Manufactured Solution\n\nManufactured solution in this case is intentionally more localized. It is given by\nequation :eq:`direct-poisson-refined-post-manufactured`. Since the solution is very\nlocalized, this example should serve as a good indicator for how local refinement\nimproves refinement efficiency.\n\n\\begin{align}:label: direct-poisson-refined-post-manufactured\n\n    u(x, y) = e^{-10 ((x - 0.75)^2 + (y - 0.75)^2)}\\end{align}\n\n\n"
      ]
    },
    {
      "cell_type": "code",
      "execution_count": null,
      "metadata": {
        "collapsed": false
      },
      "outputs": [],
      "source": [
        "def s(t: npt.NDArray[np.float64], r: float, t0: float) -> npt.NDArray[np.floating]:\n    \"\"\"Compute source term.\"\"\"\n    return np.exp(-r * (t - t0) ** 2)\n\n\ndef dsdt(t: npt.NDArray[np.float64], r: float, t0: float) -> npt.NDArray[np.floating]:\n    \"\"\"Compute derivative source term.\"\"\"\n    return -2 * r * (t - t0) * np.exp(-r * (t - t0) ** 2)\n\n\ndef d2sdt2(t: npt.NDArray[np.float64], r: float, t0: float) -> npt.NDArray[np.floating]:\n    \"\"\"Compute second derivative source term.\"\"\"\n    return 2 * r * (2 * r * (t - t0) ** 2 - 1) * np.exp(-r * (t - t0) ** 2)\n\n\ndef u_exact(x: npt.NDArray[np.float64], y: npt.NDArray[np.float64]):\n    \"\"\"Exact solution.\"\"\"\n    return s(x, 10.0, 0.75) * s(y, 10.0, 0.75)\n\n\ndef q_exact(x: npt.NDArray[np.float64], y: npt.NDArray[np.float64]):\n    \"\"\"Exact curl of solution.\"\"\"\n    return np.stack(\n        (\n            s(x, 10.0, 0.75) * dsdt(y, 10.0, 0.75),\n            -dsdt(x, 10.0, 0.75) * s(y, 10.0, 0.75),\n        ),\n        axis=-1,\n    )\n\n\ndef source_exact(x: npt.NDArray[np.float64], y: npt.NDArray[np.float64]):\n    \"\"\"Exact heat flux divergence.\"\"\"\n    return s(x, 10.0, 0.75) * d2sdt2(y, 10.0, 0.75) + d2sdt2(x, 10.0, 0.75) * s(\n        y, 10.0, 0.75\n    )\n\n\nq = KFormUnknown(\"q\", UnknownFormOrder.FORM_ORDER_1)\np = q.weight\nu = KFormUnknown(\"u\", UnknownFormOrder.FORM_ORDER_0)\nv = u.weight\n\nsystem = KFormSystem(\n    v.derivative * u.derivative == -(v * source_exact) + (v ^ q_exact),\n    p * u.derivative - p * q == 0,\n    sorting=lambda f: f.order,\n)\nprint(system)"
      ]
    },
    {
      "cell_type": "markdown",
      "metadata": {},
      "source": [
        "## Initial Mesh\n\nThe initial mesh is the same as for the pre-solver refinement example.\n\n"
      ]
    },
    {
      "cell_type": "code",
      "execution_count": null,
      "metadata": {
        "collapsed": false
      },
      "outputs": [],
      "source": [
        "N = 6\nn1 = N\nn2 = N\n\n\nm, rx, ry = rmsh.create_elliptical_mesh(\n    rmsh.MeshBlock(\n        None,\n        rmsh.BoundaryCurve.from_knots(\n            n1, (-1, -1), (-0.5, -1.1), (+0.5, -0.6), (+1, -1)\n        ),  # bottom\n        rmsh.BoundaryCurve.from_knots(\n            n2, (+1, -1), (+1.5, -0.7), (+1, 0.0), (+1, +1)\n        ),  # right\n        rmsh.BoundaryCurve.from_knots(\n            n1, (+1, +1), (0.5, 0.5), (-0.5, 0.5), (-1, +1)\n        ),  # top\n        rmsh.BoundaryCurve.from_knots(\n            n2, (-1, +1), (-0.5, 0.33), (-1, -0.5), (-1, -1)\n        ),  # left\n    )\n)\nassert rx < 1e-6 and ry < 1e-6\n\n# Show the mesh for the first time.\nfig, ax = plt.subplots(1, 1)\nxlim, ylim = m.plot(ax)\nax.set_xlim(1.1 * xlim[0], 1.1 * xlim[1])\nax.set_ylim(1.1 * ylim[0], 1.1 * ylim[1])\nax.set_aspect(\"equal\")\nplt.show()\n\npval = 3  # Test polynomial order\nmesh = mesh_create(pval, np.stack((m.pos_x, m.pos_y), axis=-1), m.lines + 1, m.surfaces)\n\n\ndef plot_mesh_comparisons(*meshes: tuple[str, Mesh]) -> None:\n    \"\"\"Plot one or more meshes with given titles.\"\"\"\n    fig, axes = plt.subplots(1, len(meshes), figsize=(6 * len(meshes), 5))\n\n    for ax, (title, mesh) in zip(axes, meshes, strict=True):\n        vertices = [mesh.get_leaf_corners(idx) for idx in mesh.get_leaf_indices()]\n        ax.add_collection(PolyCollection(vertices, facecolors=\"none\", antialiased=True))\n        for idx, quad in zip(mesh.get_leaf_indices(), vertices):\n            ax.text(\n                *np.mean(quad, axis=0),\n                str(mesh.get_leaf_orders(idx)),\n                ha=\"center\",\n                va=\"center\",\n                color=\"red\",\n                fontsize=6,\n            )\n        ax.autoscale()\n        ax.set(aspect=\"equal\", title=title)\n\n    fig.tight_layout()\n\n    plt.show()"
      ]
    },
    {
      "cell_type": "markdown",
      "metadata": {},
      "source": [
        "## Refinement Settings\n\nPost-solver refinement is controlled with the :class:`RefinementSettings` type.\nThe main setting is it is the ``error_calculation_function``, which should be\nset to a function which computes two values:\n\n- Error in some norm or semi-norm,\n- Cost of h-refinement in that norm,\n\nIf the ratio of the cost of h-refinement and error is bellow the value specified\nas the ``h_refinement_ratio``, then the element will be h-refined. Otherwise it\nwill be a candidate for p-refinement.\n\nFor this example, the error measure is exact $L^2$ norm (since the\nmanufactured solution is known), and measure of h-refinement cost is given as just\nan arbitrary constant, since ``h_refinement_ratio = 0``, meaning it will never happen.\n\nTo specify when the refinement should stop, ``refinement_limit`` should be given.\nIn this case, :class:`RefinementLimitElementCount` is used to specify that at\neither 10 elements or 100 % of the elements, whichever is lower, can be refined\neach iteration.\n\n"
      ]
    },
    {
      "cell_type": "code",
      "execution_count": null,
      "metadata": {
        "collapsed": false
      },
      "outputs": [],
      "source": [
        "def error_calc_function(\n    x: npt.NDArray[np.float64],\n    y: npt.NDArray[np.float64],\n    w: npt.NDArray[np.float64],\n    **kwargs,\n) -> tuple[float, float]:\n    \"\"\"Compute L2 error \"estimate\" and H1 refinement cost.\"\"\"\n    assert len(kwargs) == 1\n    u = kwargs[\"u\"]\n    real_u = u_exact(x, y)\n    err = (real_u - u) ** 2 * w\n    return np.sum(err), 1.0\n\n\nrefinement_settings = RefinementSettings(\n    required_forms=[u],  # Required by the error function\n    error_calculation_function=error_calc_function,  # The error function\n    h_refinement_ratio=0,  # H-refinement when ratio of h-cost and error less than this\n    refinement_limit=RefinementLimitElementCount(1.0, 10),  # When to stop refining\n    report_error_distribution=True,  # Print error distribution to terminal\n    report_order_distribution=True,  # Print element order distribution to terminal\n)"
      ]
    },
    {
      "cell_type": "markdown",
      "metadata": {},
      "source": [
        "## Iteratively Refining the Mesh\n\nHere the mesh is iteratively refined number of times, as given by ``N_ROUNDS``.\nFor each round, a plot of error and element orders is shown.\n\n"
      ]
    },
    {
      "cell_type": "code",
      "execution_count": null,
      "metadata": {
        "collapsed": false
      },
      "outputs": [],
      "source": [
        "N_ROUNDS = 10\nsystem_settings = SystemSettings(\n    system=system,\n    boundary_conditions=[BoundaryCondition2DSteady(u, mesh.boundary_indices, u_exact)],\n)\n\nresults = [(\"Initial\", mesh)]\nerrors_local: list[tuple[int, float]] = list()\nplotter = pv.Plotter(off_screen=True, window_size=(1600, 900), shape=(1, 2))\nplotter.open_gif(\"direct-poisson-refinement-post-p.gif\", fps=1)\n\nfor i_round in range(N_ROUNDS):\n    base_mesh = mesh\n    solutions, statistics, mesh = solve_system_2d(\n        mesh,\n        system_settings=system_settings,\n        refinement_settings=refinement_settings,\n        recon_order=15,\n    )\n\n    solution = solutions[-1]\n    u_computed = solution.point_data[u.label]\n    u_real = u_exact(solution.points[:, 0], solution.points[:, 1])\n    l2_err2 = (u_real - u_computed) ** 2\n    solution.point_data[\"l2_error2\"] = l2_err2\n\n    plotter.subplot(0, 0)\n    plotter.add_mesh(\n        solution,\n        scalars=\"l2_error2\",\n        log_scale=True,\n        label=\"$L^2$ error\",\n        clim=(1e-20, 1e-4),\n        name=\"solution\",\n    )\n    plotter.add_mesh(\n        solution.extract_all_edges(), scalars=None, color=\"black\", name=\"boundaries\"\n    )\n    plotter.view_xy()\n\n    plotter.subplot(0, 1)\n    sol = solution.copy()\n    sol.cell_data[\"geometrical order\"] = np.linalg.norm(\n        [mesh.get_leaf_orders(ie) for ie in base_mesh.get_leaf_indices()], axis=-1\n    ) / np.sqrt(2)\n    plotter.add_mesh(sol, scalars=\"geometrical order\", name=\"orders\", clim=(1, 12))\n    plotter.add_text(f\"Round {i_round + 1:d}\", name=\"title\")\n    plotter.view_xy()\n\n    plotter.write_frame()\n\n    results.append((f\"Round {i_round + 1:d}\", mesh))\n    errors_local.append(\n        (\n            statistics.n_total_dofs,\n            np.sqrt(solution.integrate_data().point_data[\"l2_error2\"][0]),\n        )\n    )\nplotter.close()"
      ]
    },
    {
      "cell_type": "markdown",
      "metadata": {},
      "source": [
        "## Comparison of All Meshes\n\nHere the meshes are compared to one another.\n\n"
      ]
    },
    {
      "cell_type": "code",
      "execution_count": null,
      "metadata": {
        "collapsed": false
      },
      "outputs": [],
      "source": [
        "plot_mesh_comparisons(results[0], *results[1:-1:3], results[-1])"
      ]
    },
    {
      "cell_type": "markdown",
      "metadata": {},
      "source": [
        "## Error Evolution\n\nError evolution of the post-refined mesh is presented here in contrast to uniform\nrefinement.\n\n"
      ]
    },
    {
      "cell_type": "code",
      "execution_count": null,
      "metadata": {
        "collapsed": false
      },
      "outputs": [],
      "source": [
        "errors_uniform: list[tuple[int, float]] = list()\n\nfor pval in range(3, 9):\n    mesh = mesh_create(\n        pval, np.stack((m.pos_x, m.pos_y), axis=-1), m.lines + 1, m.surfaces\n    )\n    solutions, statistics, _ = solve_system_2d(\n        mesh,\n        system_settings=system_settings,\n        refinement_settings=None,\n        recon_order=15,\n    )\n    solution = solutions[-1]\n    u_computed = solution.point_data[u.label]\n    u_real = u_exact(solution.points[:, 0], solution.points[:, 1])\n    l2_err2 = (u_real - u_computed) ** 2\n    solution.point_data[\"l2_error2\"] = l2_err2\n    errors_uniform.append(\n        (\n            statistics.n_total_dofs,\n            np.sqrt(solution.integrate_data().point_data[\"l2_error2\"][0]),\n        )\n    )\n\nfig, ax = plt.subplots()\n\nel = np.array(errors_local)\neu = np.array(errors_uniform)\n\nkl1, kl0 = np.polyfit(el[:, 0] / 1000, np.log(el[:, 1]), 1)\nkl1, kl0 = np.exp(kl1), np.exp(kl0)\nku1, ku0 = np.polyfit(eu[:, 0] / 1000, np.log(eu[:, 1]), 1)\nku1, ku0 = np.exp(ku1), np.exp(ku0)\n\nax.scatter(el[:, 0], el[:, 1], label=\"Local Refinement\", marker=\"x\", color=\"blue\")\nax.scatter(eu[:, 0], eu[:, 1], label=\"Uniform Refinement\", marker=\"x\", color=\"orange\")\nax.plot(\n    el[:, 0],\n    kl0 * kl1 ** (el[:, 0] / 1000),\n    label=f\"${kl0:.3g} \\\\cdot \\\\left({{{kl1:+.3g}}}^{{\\\\frac{{N_\\\\mathrm{{dofs}}}}\"\n    f\"{{1000}}}}\\\\right)$\",\n    color=\"blue\",\n    linestyle=\"dashed\",\n)\nax.plot(\n    eu[:, 0],\n    ku0 * ku1 ** (eu[:, 0] / 1000),\n    label=f\"${ku0:.3g} \\\\cdot \\\\left({{{ku1:+.3g}}}^{{\\\\frac{{N_\\\\mathrm{{dofs}}}}\"\n    f\"{{1000}}}}\\\\right)$\",\n    color=\"orange\",\n    linestyle=\"dashed\",\n)\nax.grid()\nax.legend()\nax.set(\n    xlabel=\"$N_\\\\mathrm{dofs}$\",\n    ylabel=\"$\\\\left|\\\\left| u - \\\\bar{u} \\\\right|\\\\right|_{L^2}$\",\n    yscale=\"log\",\n)\nfig.tight_layout()\n\nplt.show()"
      ]
    }
  ],
  "metadata": {
    "kernelspec": {
      "display_name": "Python 3",
      "language": "python",
      "name": "python3"
    },
    "language_info": {
      "codemirror_mode": {
        "name": "ipython",
        "version": 3
      },
      "file_extension": ".py",
      "mimetype": "text/x-python",
      "name": "python",
      "nbconvert_exporter": "python",
      "pygments_lexer": "ipython3",
      "version": "3.13.5"
    }
  },
  "nbformat": 4,
  "nbformat_minor": 0
}