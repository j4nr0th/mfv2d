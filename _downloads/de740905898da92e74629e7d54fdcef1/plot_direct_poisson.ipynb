{
  "cells": [
    {
      "cell_type": "markdown",
      "metadata": {},
      "source": [
        "\n# Poisson Equation in the Direct Formulation\n\nThis example shows how the Poisson equation can be solved using the direct\nformulation. This means that the equation :eq:`steady-direct-poisson-equation`\nis formulated directly without any intermediate steps.\n\n\\begin{align}:label: steady-direct-poisson-equation\n\n    \\nabla^2 u = - f\\end{align}\n\nThe direct formulation requires that the unknown $u$ be a differential\n0-form, defined in $H(\\mathrm{curl})$. As such, the equation to be solved\nis given by equation :eq:`steady-direct-poisson-diff`.\n\n\n\\begin{align}:label: steady-direct-poisson-diff\n\n    \\star \\mathrm{d} \\star \\mathrm{d} u^{(0)} = -f^{(0)}\\end{align}\n\nThis can be rewritten in the variational form as per equation\n:eq:`steady-direct-poisson-var`\n\n\\begin{align}:label: steady-direct-poisson-var\n\n    \\int_\\Omega \\mathrm{d} v^{(0)} \\wedge \\star \\mathrm{d} u^{(0)} =\n    \\int_\\Omega v^{(0)} \\wedge \\star f^{(0)} +\n    \\int_{\\partial \\Omega} v^{(0)} \\wedge \\star \\mathrm{d} u^{(0)} \\quad\n    \\forall v^{(0)} \\in \\Lambda^{(0)}\\left( \\mathcal{M} \\right)\\end{align}\n\nError for this case will be measured in two ways. First is in the typical\n$L^2$ norm defined by equation :eq:`steady-direct-poisson-l2-norm`.\n\n\\begin{align}:label: steady-direct-poisson-l2-norm\n\n    \\varepsilon_{L^2}(u) = \\sqrt{\\int_\\Omega\n    \\left( u_\\mathrm{exact} - u\\right) {\\mathrm{d}\\Omega}}\\end{align}\n\nThe second is the semi-norm defined by equation :eq:`steady-direct-poisson-h1-norm`.\nThe reason to also use this norm, is that is is the norm which is induced by the\nLaplace operator, which the Poisson equation is defined with.\n\n\\begin{align}:label: steady-direct-poisson-h1-norm\n\n    \\varepsilon_{H^1}(u) = \\int_\\Omega \\left|\\left|\n    \\nabla \\times u_\\mathrm{exact} - \\nabla \\times u \\right|\\right| {\\mathrm{d}\\Omega}\\end{align}\n"
      ]
    },
    {
      "cell_type": "code",
      "execution_count": null,
      "metadata": {
        "collapsed": false
      },
      "outputs": [],
      "source": [
        "import numpy as np\nimport numpy.typing as npt\nimport pyvista as pv\nimport rmsh\nfrom matplotlib import pyplot as plt\nfrom mfv2d import (\n    BoundaryCondition2DSteady,\n    KFormSystem,\n    KFormUnknown,\n    Mesh2D,\n    SolverSettings,\n    SystemSettings,\n    UnknownFormOrder,\n    solve_system_2d,\n)"
      ]
    },
    {
      "cell_type": "markdown",
      "metadata": {},
      "source": [
        "## Setup\n\nThe first thing is to setup the necessary prerequisites. This first of all means\ndefining the manufactured solution used for the verification. The manufactured\nsolution for $u^{(0)}$ is given by equation\n:eq:`steady-direct-poisson-manufactured-u`, with its curl $q^{(1)}$ given\nby equation :eq:`steady-direct-poisson-manufactured-q`.\n\n\\begin{align}:label: steady-direct-poisson-manufactured-u\n\n    u^{(0)}(x, y) = 2 \\cos\\left(\\frac{\\pi x}{2}\\right) \\cos\\left(\\frac{\\pi y}{2}\\right)\\end{align}\n\n\\begin{align}:label: steady-direct-poisson-manufactured-q\n\n    q^{(1)}(x, y) = - \\pi \\cos\\left(\\frac{\\pi x}{2}\\right)\n    \\sin\\left(\\frac{\\pi y}{2}\\right) dx + \\pi \\sin\\left(\\frac{\\pi x}{2}\\right)\n    \\cos\\left(\\frac{\\pi y}{2}\\right) dy\\end{align}\n\nThe source term on the right side of the equation is thus given by equation\n:eq:`steady-direct-poisson-manufactured-f`.\n\n\\begin{align}:label: steady-direct-poisson-manufactured-f\n\n    f^{(0)}(x, y) = - \\pi^2 \\cos\\left(\\frac{\\pi x}{2}\\right)\n    \\cos\\left(\\frac{\\pi y}{2}\\right)\\end{align}\n\n\n"
      ]
    },
    {
      "cell_type": "code",
      "execution_count": null,
      "metadata": {
        "collapsed": false
      },
      "outputs": [],
      "source": [
        "def u_exact(x: npt.NDArray[np.float64], y: npt.NDArray[np.float64]):\n    \"\"\"Exact solution.\"\"\"\n    return 2 * np.cos(np.pi / 2 * x) * np.cos(np.pi / 2 * y) + 5\n\n\ndef q_exact(x: npt.NDArray[np.float64], y: npt.NDArray[np.float64]):\n    \"\"\"Exact curl of solution.\"\"\"\n    return np.stack(\n        (\n            -np.pi * np.cos(np.pi / 2 * x) * np.sin(np.pi / 2 * y),\n            np.pi * np.sin(np.pi / 2 * x) * np.cos(np.pi / 2 * y),\n        ),\n        axis=-1,\n    )\n\n\ndef source_exact(x: npt.NDArray[np.floating], y: npt.NDArray[np.floating]):\n    \"\"\"Exact divergence.\"\"\"\n    return -(np.pi**2) * np.cos(np.pi / 2 * x) * np.cos(np.pi / 2 * y)"
      ]
    },
    {
      "cell_type": "markdown",
      "metadata": {},
      "source": [
        "## System Setup\n\nHere the system is set up. An additional unknown $q^{(1)}$ is introduced. This\nis just to compute the curl of the solution along with it. The equations in the\nsystem bellow are first repeating equation :eq:`steady-direct-poisson-var`, then\nfollowed by newly introduced equation :eq:`steady-direct-poisson-curl`, which just\nensures that $q^{(1)}$ is equal to the curl of $u^{(0)}$, since that\nis needed to compute the error given by the $H^1$.\n\n\n\\begin{align}:label: steady-direct-poisson-curl\n\n    \\int_\\Omega p^{(1)} \\wedge \\star \\mathrm{d} u^{(0)} - \\int_\\Omega p^{(1)} \\wedge\n    \\star q^{(1)} = 0\\end{align}\n\n"
      ]
    },
    {
      "cell_type": "code",
      "execution_count": null,
      "metadata": {
        "collapsed": false
      },
      "outputs": [],
      "source": [
        "u = KFormUnknown(\"u\", UnknownFormOrder.FORM_ORDER_0)\nv = u.weight\nq = KFormUnknown(\"q\", UnknownFormOrder.FORM_ORDER_1)\np = q.weight\n\nsystem = KFormSystem(\n    v.derivative * u.derivative == -(v * source_exact) + (v ^ q_exact),\n    p * u.derivative - p * q == 0,\n    sorting=lambda f: f.order,\n)\nprint(system)"
      ]
    },
    {
      "cell_type": "markdown",
      "metadata": {},
      "source": [
        "## Making The Mesh\n\nThe mesh this is being solved on is a a single block of 6 by 6 quatrilaterals.\nThe boundaries of the mesh are defined by B-splines with 4 knots, meaning they\nare cubic splines. The mesh is presented in the plot bellow.\n\n\n"
      ]
    },
    {
      "cell_type": "code",
      "execution_count": null,
      "metadata": {
        "collapsed": false
      },
      "outputs": [],
      "source": [
        "N = 6\nn1 = N\nn2 = N\n\nm, rx, ry = rmsh.create_elliptical_mesh(\n    rmsh.MeshBlock(\n        None,\n        rmsh.BoundaryCurve.from_knots(\n            n1, (-1, -1), (-0.5, -1.1), (+0.5, -0.6), (+1, -1)\n        ),  # bottom\n        rmsh.BoundaryCurve.from_knots(\n            n2, (+1, -1), (+1.5, -0.7), (+1, 0.0), (+1, +1)\n        ),  # right\n        rmsh.BoundaryCurve.from_knots(\n            n1, (+1, +1), (0.5, 0.5), (-0.5, 0.5), (-1, +1)\n        ),  # top\n        rmsh.BoundaryCurve.from_knots(\n            n2, (-1, +1), (-0.5, 0.33), (-1, -0.5), (-1, -1)\n        ),  # left\n    )\n)\nassert rx < 1e-6 and ry < 1e-6\n\n# Show the mesh for the first time.\nfig, ax = plt.subplots(1, 1)\nxlim, ylim = m.plot(ax)\nax.set_xlim(1.1 * xlim[0], 1.1 * xlim[1])\nax.set_ylim(1.1 * ylim[0], 1.1 * ylim[1])\nax.set_aspect(\"equal\")\nplt.show()"
      ]
    },
    {
      "cell_type": "markdown",
      "metadata": {},
      "source": [
        "## Check the Result\n\nBefore checking the convergence, let us first just check on how the solution\nlooks.\n\n"
      ]
    },
    {
      "cell_type": "code",
      "execution_count": null,
      "metadata": {
        "collapsed": false
      },
      "outputs": [],
      "source": [
        "pval = 3  # Test polynomial order\nmsh = Mesh2D(pval, np.stack((m.pos_x, m.pos_y), axis=-1), m.lines + 1, m.surfaces)\n\nsolution, stats = solve_system_2d(\n    msh,\n    system_settings=SystemSettings(\n        system,\n        boundary_conditions=[BoundaryCondition2DSteady(u, msh.boundary_indices, u_exact)],\n    ),\n    solver_settings=SolverSettings(absolute_tolerance=1e-10, relative_tolerance=0),\n    print_residual=False,\n    recon_order=25,\n)\n\n\nsol: pv.UnstructuredGrid = solution[-1]\npv.set_plot_theme(\"document\")\nplotter = pv.Plotter(shape=(1, 3), window_size=(1600, 800), off_screen=True)\n\nplotter.subplot(0, 0)\nplotter.add_mesh(sol.copy(), scalars=u.label, show_scalar_bar=True)\nplotter.add_text(\"Computed\")\nplotter.view_xy()\n\nsol.point_data[\"u_exact\"] = u_exact(sol.points[:, 0], sol.points[:, 1])\nplotter.subplot(0, 1)\nplotter.add_mesh(sol.copy(), scalars=\"u_exact\", show_scalar_bar=True)\nplotter.add_text(\"Exact\")\nplotter.view_xy()\n\n# Error at strong BCs is ~10^{-30}, so make sure to add this\n# value, otherwise it will ruin the colormap scale.\nsol.point_data[\"abs_error\"] = (\n    np.abs(sol.point_data[\"u_exact\"] - sol.point_data[u.label]) + 1e-8\n)\nplotter.subplot(0, 2)\nplotter.add_mesh(sol.copy(), scalars=\"abs_error\", show_scalar_bar=True, log_scale=True)\nplotter.add_text(\"Absolute Error\")\nplotter.view_xy()\n\n# plotter.show()"
      ]
    },
    {
      "cell_type": "markdown",
      "metadata": {},
      "source": [
        "## Solve for Different Orders\n\nSo we solve for different orders.\n\n"
      ]
    },
    {
      "cell_type": "code",
      "execution_count": null,
      "metadata": {
        "collapsed": false
      },
      "outputs": [],
      "source": [
        "p_vals = np.arange(1, 7)\nh1_err = np.zeros(p_vals.size)\nl2_err = np.zeros(p_vals.size)\n\nfor ip, pval in enumerate(p_vals):\n    msh = Mesh2D(pval, np.stack((m.pos_x, m.pos_y), axis=-1), m.lines + 1, m.surfaces)\n\n    solution, stats = solve_system_2d(\n        msh,\n        system_settings=SystemSettings(\n            system,\n            boundary_conditions=[\n                BoundaryCondition2DSteady(u, msh.boundary_indices, u_exact)\n            ],\n        ),\n        solver_settings=SolverSettings(absolute_tolerance=1e-10, relative_tolerance=0),\n        print_residual=False,\n        recon_order=25,\n    )\n\n    sol = solution[-1]\n    sol.point_data[\"q_err2\"] = np.linalg.norm(\n        sol.point_data[\"q\"] - q_exact(sol.points[:, 0], sol.points[:, 1]), axis=-1\n    )\n    sol.point_data[\"u_err2\"] = (\n        sol.point_data[\"u\"] - u_exact(sol.points[:, 0], sol.points[:, 1])\n    ) ** 2\n\n    total_error = sol.integrate_data()\n    h1_err[ip] = total_error.point_data[\"q_err2\"][0]\n    l2_err[ip] = np.sqrt(total_error.point_data[\"u_err2\"][0])\n    print(f\"Finished {pval=:d}\")"
      ]
    },
    {
      "cell_type": "markdown",
      "metadata": {},
      "source": [
        "## Plot Results\n\nHere we plot the results.\n\n### $H^1$ Norm\n\n\n"
      ]
    },
    {
      "cell_type": "code",
      "execution_count": null,
      "metadata": {
        "collapsed": false
      },
      "outputs": [],
      "source": [
        "k1, k0 = np.polyfit((p_vals), np.log(h1_err), 1)\nk1, k0 = np.exp(k1), np.exp(k0)\n\nprint(f\"Solution converges with p as: {k0:.3g} * ({k1:.3g}) ** p in H1 norm\")\nplt.figure()\n\nplt.scatter(p_vals, h1_err)\nplt.semilogy(\n    p_vals,\n    k0 * k1**p_vals,\n    label=f\"${k0:.3g} \\\\cdot \\\\left( {{{k1:+.3g}}}^p \\\\right)$\",\n    linestyle=\"dashed\",\n)\nplt.gca().set(\n    xlabel=\"$p$\",\n    ylabel=\"$\\\\left|\\\\left| \\\\nabla \\\\times u - \\\\nabla \\\\times\"\n    \" \\\\bar{u} \\\\right|\\\\right|$\",\n    yscale=\"log\",\n)\nplt.legend()\nplt.grid()\nplt.show()"
      ]
    },
    {
      "cell_type": "markdown",
      "metadata": {},
      "source": [
        "### $L^2$ Norm\n\n\n"
      ]
    },
    {
      "cell_type": "code",
      "execution_count": null,
      "metadata": {
        "collapsed": false
      },
      "outputs": [],
      "source": [
        "k1, k0 = np.polyfit((p_vals), np.log(l2_err), 1)\nk1, k0 = np.exp(k1), np.exp(k0)\n\nprint(f\"Solution converges with p as: {k0:.3g} * ({k1:.3g}) ** p in L2 norm.\")\nplt.figure()\n\nplt.scatter(p_vals, l2_err)\nplt.semilogy(\n    p_vals,\n    k0 * k1**p_vals,\n    label=f\"${k0:.3g} \\\\cdot \\\\left( {{{k1:+.3g}}}^p \\\\right)$\",\n    linestyle=\"dashed\",\n)\nplt.gca().set(\n    xlabel=\"$p$\",\n    ylabel=\"$\\\\varepsilon_{L^2}$\",\n    yscale=\"log\",\n)\nplt.legend()\nplt.grid()\nplt.show()"
      ]
    }
  ],
  "metadata": {
    "kernelspec": {
      "display_name": "Python 3",
      "language": "python",
      "name": "python3"
    },
    "language_info": {
      "codemirror_mode": {
        "name": "ipython",
        "version": 3
      },
      "file_extension": ".py",
      "mimetype": "text/x-python",
      "name": "python",
      "nbconvert_exporter": "python",
      "pygments_lexer": "ipython3",
      "version": "3.13.5"
    }
  },
  "nbformat": 4,
  "nbformat_minor": 0
}