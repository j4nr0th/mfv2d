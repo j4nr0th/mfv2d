{
  "cells": [
    {
      "cell_type": "markdown",
      "metadata": {},
      "source": [
        "\n# Navier-Stokes: Cavity Flow\n\nCavity flow can be considered a canonical solution for the Navier-Stokes,\ngiven how well the solution to this problem is known. In this exampled it\nis solved for the case of $Re = 10$, since that allows for quick convergence\non a fairly coarse grid.\n"
      ]
    },
    {
      "cell_type": "code",
      "execution_count": null,
      "metadata": {
        "collapsed": false
      },
      "outputs": [],
      "source": [
        "import numpy as np\nimport pyvista as pv\nimport rmsh\nfrom mfv2d import (\n    BoundaryCondition2DSteady,\n    KFormSystem,\n    KFormUnknown,\n    Mesh2D,\n    SolverSettings,\n    SystemSettings,\n    TimeSettings,\n    solve_system_2d,\n)"
      ]
    },
    {
      "cell_type": "markdown",
      "metadata": {},
      "source": [
        "## Setup\n\nSince there's no manufactured solution, the only necessary setup\nis the boundary velocity, which should be 2 on the top side of the\nmesh and zero elsewhere. The reason for it being 2 is because the\ndomain length is also 2.\n\n"
      ]
    },
    {
      "cell_type": "code",
      "execution_count": null,
      "metadata": {
        "collapsed": false
      },
      "outputs": [],
      "source": [
        "RE = 1e1\n\n\ndef boundary_velocty(x, y):\n    \"\"\"Exact velocity solution.\"\"\"\n    vx = 2 * (y == 1) + 0 * x\n    vy = 0 * (x + y)\n    return np.stack((vx, vy), axis=-1)"
      ]
    },
    {
      "cell_type": "markdown",
      "metadata": {},
      "source": [
        "## System Setup\n\nSystem is set up the same as with the steady example of Navier-Stokes,\nwith the only difference being the weak pressure boundary conditions\nnot being included, due to the fact that the strong boundary conditions\non the normal velocity mean that they would not be used either way.\n\n"
      ]
    },
    {
      "cell_type": "code",
      "execution_count": null,
      "metadata": {
        "collapsed": false
      },
      "outputs": [],
      "source": [
        "pre = KFormUnknown(2, \"pre\", 2)\nw_pre = pre.weight\nvel = KFormUnknown(2, \"vel\", 1)\nw_vel = vel.weight\nvor = KFormUnknown(2, \"vor\", 0)\nw_vor = vor.weight\n\nsystem = KFormSystem(\n    w_vor.derivative * vel - w_vor * vor == w_vor ^ boundary_velocty,\n    # No weak BC for pressure, since normal velocity is given\n    (1 / RE) * (w_vel * vor.derivative) + w_vel.derivative * pre\n    == -(w_vel * (vel ^ (~vor))),\n    w_pre * vel.derivative == 0,\n    sorting=lambda f: f.order,\n)\nprint(system)\n\nN = 6\nP = 3\n\nn1 = N\nn2 = N\n\nrect_mesh, rx, ry = rmsh.create_elliptical_mesh(\n    rmsh.MeshBlock(\n        label=None,\n        bottom=rmsh.BoundaryCurve.from_knots(n1, (-1, -1), (+1, -1)),\n        right=rmsh.BoundaryCurve.from_knots(n2, (+1, -1), (+1, +1)),\n        top=rmsh.BoundaryCurve.from_knots(n1, (+1, +1), (-1, +1)),\n        left=rmsh.BoundaryCurve.from_knots(n2, (-1, +1), (-1, -1)),\n    )\n)\nassert rx < 1e-6, ry < 1e-6\n\nmesh = Mesh2D(\n    P,\n    np.stack((rect_mesh.pos_x, rect_mesh.pos_y), axis=-1),\n    rect_mesh.lines + 1,\n    rect_mesh.surfaces,\n)\n\nsolutions, stats = solve_system_2d(\n    mesh,\n    SystemSettings(\n        system,\n        [BoundaryCondition2DSteady(vel, mesh.boundary_indices, boundary_velocty)],\n        [(0.0, pre)],\n    ),\n    solver_settings=SolverSettings(\n        maximum_iterations=100,\n        absolute_tolerance=1e-10,\n        relative_tolerance=0,\n    ),\n    time_settings=TimeSettings(dt=5, nt=20, time_march_relations={w_vel: vel}),\n    print_residual=True,\n    recon_order=25,\n)\nprint(stats)"
      ]
    },
    {
      "cell_type": "markdown",
      "metadata": {},
      "source": [
        "## Plot Streamlines\n\nPyvista allows for very simple 2D streamline plots.\n\n\n"
      ]
    },
    {
      "cell_type": "code",
      "execution_count": null,
      "metadata": {
        "collapsed": false
      },
      "outputs": [],
      "source": [
        "plotter = pv.Plotter(off_screen=True, shape=(1, 1), window_size=(1600, 800))\n\nsolution = solutions[-1]\nsolution.point_data[vel.label] = np.pad(solution.point_data[vel.label], ((0, 0), (0, 1)))\nplotter.add_mesh(solution.copy(), scalars=vor.label, clim=(-5, +5))\nplotter.add_mesh(solution.extract_all_edges(), color=\"black\")\nplotter.add_mesh(\n    solution.streamlines_evenly_spaced_2D(\n        vectors=vel.label,\n        step_length=0.3,\n        start_position=(0, 0, 0),\n        separating_distance=0.2,\n        separating_distance_ratio=0.1,\n        compute_vorticity=False,\n    ),\n    scalars=None,\n    show_scalar_bar=False,\n    color=\"white\",\n)\nplotter.view_xy()"
      ]
    }
  ],
  "metadata": {
    "kernelspec": {
      "display_name": "Python 3",
      "language": "python",
      "name": "python3"
    },
    "language_info": {
      "codemirror_mode": {
        "name": "ipython",
        "version": 3
      },
      "file_extension": ".py",
      "mimetype": "text/x-python",
      "name": "python",
      "nbconvert_exporter": "python",
      "pygments_lexer": "ipython3",
      "version": "3.13.5"
    }
  },
  "nbformat": 4,
  "nbformat_minor": 0
}