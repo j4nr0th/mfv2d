{
  "cells": [
    {
      "cell_type": "markdown",
      "metadata": {},
      "source": [
        "\n# Unsteady Heat Equations in Direct Formulation\n\nThe (unsteady) heat equation is essentially just the Poisson equation with a time\nderivative term added to the left side, as per equation\n:eq:`unsteady-heat-direct-equation`.\n\n\\begin{align}:label: unsteady-heat-direct-equation\n\n    \\frac{\\partial u}{\\partial t} + \\alpha \\nabla^2 u = f\\end{align}\n\n\nJust as was the case for the Poisson equation, this can be written in either direct\nor mixed formulation. For this example the direct formulation is used. As such,\nthe variational form of :eq:`unsteady-heat-direct-equation` used is given by\nequation :eq:`unsteady-heat-direct-variational`.\n\n\\begin{align}:label: unsteady-heat-direct-variational\n\n    \\left(v^{(0)}, \\frac{\\partial u}{\\partial t}\\right)_\\Omega +\n    \\alpha \\left(\\mathrm{d} v^{(0)}, \\mathrm{d} u^{(0)}\\right)_\\Omega =\n    \\int_{\\partial\\Omega} v^{(0)} \\wedge \\star \\mathrm{d} u^{(0)}\n    - \\left(v^{(0)}, f\\right)_\\Omega\\end{align}\n"
      ]
    },
    {
      "cell_type": "code",
      "execution_count": null,
      "metadata": {
        "collapsed": false
      },
      "outputs": [],
      "source": [
        "import numpy as np\nimport numpy.typing as npt\nimport rmsh\nfrom matplotlib import pyplot as plt\nfrom mfv2d import (\n    BoundaryCondition2DSteady,\n    KFormSystem,\n    KFormUnknown,\n    Mesh2D,\n    SolverSettings,\n    SystemSettings,\n    TimeSettings,\n    solve_system_2d,\n)\nfrom scipy.integrate import trapezoid"
      ]
    },
    {
      "cell_type": "markdown",
      "metadata": {},
      "source": [
        "## Setup\n\nFor the verification here the manufactured solution is used. It should have the\nform given by :eq:`unsteady-heat-direct-manufactured`, with $u_s$ being a\nsteady state solution. Due to the boundary conditions not being possible to\nchange with time, the solution and mesh are taken such that the solution would\nremain zero on the boundary for the entire time.\n\n\\begin{align}:label: unsteady-heat-direct-manufactured\n\n    u_s(x, y) = \\cos(\\frac{\\pi x}{2})\\cos(\\frac{\\pi y}{2})\\end{align}\n\nAs such, the mesh chosen is the $[-1, +1] \\times [-1, +1]$ square and the\nsteady solution is given by equation :eq:`unsteady-heat-direct-steady`.\nAs for the values of conduction coefficient and decay coefficient, values of\n$\\alpha = 0.02$ and $\\beta = 1$ were taken.\n\n\\begin{align}:label: unsteady-heat-direct-steady\n\n    u_s(x, y) = \\cos(\\frac{\\pi x}{2})\\cos(\\frac{\\pi y}{2})\\end{align}\n\nForcing needed to have the solution above forcing $f$ also had to be\ncomputed. To obtain the solution given by equation\n:eq:`unsteady-heat-direct-manufactured`\nthe forcing had to be given by equation :eq:`unsteady-heat-direct-source`.\nThe terms in $u$ could also be embedded in the system by moving them on the right\nside of the equation, which would also make the method a direct solve, instead of\nfixed-point iteration.\n\n\\begin{align}:label: unsteady-heat-direct-source\n\n    f = \\beta (u_s - u) + \\frac{\\alpha \\pi^2}{2} u\\end{align}\n\n"
      ]
    },
    {
      "cell_type": "code",
      "execution_count": null,
      "metadata": {
        "collapsed": false
      },
      "outputs": [],
      "source": [
        "ALPHA = 0.02\nBETA = 1\n\n\ndef steady_u(x: npt.NDArray[np.floating], y: npt.NDArray[np.floating]):\n    \"\"\"Steady state solution.\"\"\"\n    return np.cos(np.pi * x / 2) * np.cos(np.pi * y / 2)"
      ]
    },
    {
      "cell_type": "markdown",
      "metadata": {},
      "source": [
        "## System Setup\n\nSystem setup is what was discussed above. What should be noted is the\nfact that since now there are involving the solution itself on the\nright side of the equation, this is now an iterative solve.\n\n"
      ]
    },
    {
      "cell_type": "code",
      "execution_count": null,
      "metadata": {
        "collapsed": false
      },
      "outputs": [],
      "source": [
        "u = KFormUnknown(2, \"u\", 0)\nv = u.weight\n\nsystem = KFormSystem(\n    ALPHA * (v.derivative * u.derivative)\n    == BETA * (v * steady_u) - (BETA - ALPHA * np.pi**2 / 2) * (v * u),\n    sorting=lambda f: f.order,\n)\nprint(system)"
      ]
    },
    {
      "cell_type": "markdown",
      "metadata": {},
      "source": [
        "## Making the Mesh\n\nThe mesh is made on the $[-1, +1] \\times [-1, +1]$ square, as mentioned\nbefore. As for the time steps, values of 2, 4, 8, 16, 32, 64, and 128 are used.\n\n\n\n"
      ]
    },
    {
      "cell_type": "code",
      "execution_count": null,
      "metadata": {
        "collapsed": false
      },
      "outputs": [],
      "source": [
        "N = 11\nP = 3\nT_END = 2\n\nn1 = N\nn2 = N\nrect_mesh, rx, ry = rmsh.create_elliptical_mesh(\n    rmsh.MeshBlock(\n        label=None,\n        bottom=rmsh.BoundaryCurve.from_line(n1, (-1, -1), (+1, -1)),\n        right=rmsh.BoundaryCurve.from_line(n2, (+1, -1), (+1, +1)),\n        top=rmsh.BoundaryCurve.from_line(n2, (+1, +1), (-1, +1)),\n        left=rmsh.BoundaryCurve.from_line(n2, (-1, +1), (-1, -1)),\n    )\n)\nassert rx < 1e-6 and ry < 1e-6\nmesh = Mesh2D(\n    P,\n    np.stack((rect_mesh.pos_x, rect_mesh.pos_y), axis=-1),\n    rect_mesh.lines + 1,\n    rect_mesh.surfaces,\n)\n\nnt_vals = np.logspace(start=1, stop=6, num=7, base=2, dtype=np.uint32)\ner_vals = np.zeros(nt_vals.size)\ndt_vals = np.zeros(nt_vals.size)"
      ]
    },
    {
      "cell_type": "markdown",
      "metadata": {},
      "source": [
        "## Running the Calculations\n\nNow we run the calculations and get the error.\n\n"
      ]
    },
    {
      "cell_type": "code",
      "execution_count": null,
      "metadata": {
        "collapsed": false
      },
      "outputs": [],
      "source": [
        "for i_nt, nt in enumerate(nt_vals):\n    dt = float(T_END / nt)\n    solutions, stats = solve_system_2d(\n        mesh,\n        system_settings=SystemSettings(\n            system,\n            boundary_conditions=[\n                BoundaryCondition2DSteady(u, mesh.boundary_indices, steady_u)\n            ],\n        ),\n        solver_settings=SolverSettings(\n            maximum_iterations=20, relative_tolerance=0, absolute_tolerance=1e-10\n        ),\n        time_settings=TimeSettings(dt=dt, nt=nt, time_march_relations={v: u}),\n        recon_order=25,\n    )\n\n    n_sol = len(solutions)\n    err_vals = np.zeros(n_sol)\n    time_vals = np.zeros(n_sol)\n    for isol, sol in enumerate(solutions):\n        time = float(sol.field_data[\"time\"][0])\n\n        u_exact = steady_u(sol.points[:, 0], sol.points[:, 1]) * (\n            1 - np.exp(-BETA * time)\n        )\n        u_err = sol.point_data[\"u\"] - u_exact\n        sol.point_data[\"u_err\"] = np.abs(u_err)\n        sol.point_data[\"u_exact\"] = u_exact\n\n        integrated = sol.integrate_data()\n        err = float(integrated.point_data[\"u_err\"][0])\n        time_vals[isol] = time\n        err_vals[isol] = err\n\n    total_time_error = trapezoid(err_vals, time_vals)\n    er_vals[i_nt] = total_time_error\n    dt_vals[i_nt] = dt\n    print(f\"For {dt=} total error was {total_time_error:.3e}.\")"
      ]
    },
    {
      "cell_type": "markdown",
      "metadata": {},
      "source": [
        "## Plotting the Error\n\nNow we plot the error. As you can see, we magically got\nanother order of accuracy out of fucking thin air. If I had\nto guess it is related to the fact that the time integration\nis symplectic.\n\n"
      ]
    },
    {
      "cell_type": "code",
      "execution_count": null,
      "metadata": {
        "collapsed": false
      },
      "outputs": [],
      "source": [
        "k1, k0 = np.polyfit(np.log(dt_vals), np.log(er_vals), 1)\nk0 = np.exp(k0)\n\nfig, ax = plt.subplots(1, 1)\nax.scatter(dt_vals, er_vals)\nax.plot(\n    dt_vals,\n    k0 * dt_vals**k1,\n    linestyle=\"dashed\",\n    label=f\"${k0:.3g} \\\\cdot {{\\\\Delta t}}^{{{k1:+.3g}}}$\",\n)\nax.grid()\nax.legend()\nax.set(\n    xlabel=\"$\\\\Delta t$\",\n    ylabel=\"$\\\\int \\\\left|u - \\\\bar{u}\\\\right| {dt}$\",\n    xscale=\"log\",\n    yscale=\"log\",\n)\nax.xaxis_inverted()\nfig.tight_layout()\nplt.show()"
      ]
    }
  ],
  "metadata": {
    "kernelspec": {
      "display_name": "Python 3",
      "language": "python",
      "name": "python3"
    },
    "language_info": {
      "codemirror_mode": {
        "name": "ipython",
        "version": 3
      },
      "file_extension": ".py",
      "mimetype": "text/x-python",
      "name": "python",
      "nbconvert_exporter": "python",
      "pygments_lexer": "ipython3",
      "version": "3.13.5"
    }
  },
  "nbformat": 4,
  "nbformat_minor": 0
}