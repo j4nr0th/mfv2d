{
  "cells": [
    {
      "cell_type": "markdown",
      "metadata": {},
      "source": [
        "\n# Poisson Equation with Local Refinement\n\nOne of key features of :mod:`mfv2d` is the ability to locally refine the mesh with\nboth hierarchical refinement (divide elements) or with polynomial refinement\n(increase order of elements).\n\nThis examples is otherwise identical to `sphx_glr_auto_examples_steady_plot_direct_poisson.py`,\nwhere the direct Poisson is solved in a straight-forward manner. As such, only\ntext and comments added to the code are pertaining to features not used in that one.\n"
      ]
    },
    {
      "cell_type": "code",
      "execution_count": null,
      "metadata": {
        "collapsed": false
      },
      "outputs": [],
      "source": [
        "import numpy as np\nimport numpy.typing as npt\nimport pyvista as pv\nimport rmsh\nfrom matplotlib import pyplot as plt\nfrom matplotlib.collections import PolyCollection\nfrom mfv2d import (\n    BoundaryCondition2DSteady,\n    KFormSystem,\n    KFormUnknown,\n    Mesh,\n    SolverSettings,\n    SystemSettings,\n    UnknownFormOrder,\n    mesh_create,\n    solve_system_2d,\n)\n\n\ndef u_exact(x: npt.NDArray[np.float64], y: npt.NDArray[np.float64]):\n    \"\"\"Exact solution.\"\"\"\n    return 2 * np.cos(np.pi / 2 * x) * np.cos(np.pi / 2 * y) + 5\n\n\ndef q_exact(x: npt.NDArray[np.float64], y: npt.NDArray[np.float64]):\n    \"\"\"Exact curl of solution.\"\"\"\n    return np.stack(\n        (\n            -np.pi * np.cos(np.pi / 2 * x) * np.sin(np.pi / 2 * y),\n            np.pi * np.sin(np.pi / 2 * x) * np.cos(np.pi / 2 * y),\n        ),\n        axis=-1,\n    )\n\n\ndef source_exact(x: npt.NDArray[np.floating], y: npt.NDArray[np.floating]):\n    \"\"\"Exact heat flux divergence.\"\"\"\n    return -(np.pi**2) * np.cos(np.pi / 2 * x) * np.cos(np.pi / 2 * y)\n\n\nq = KFormUnknown(\"q\", UnknownFormOrder.FORM_ORDER_1)\np = q.weight\nu = KFormUnknown(\"u\", UnknownFormOrder.FORM_ORDER_0)\nv = u.weight\n\nsystem = KFormSystem(\n    v.derivative * u.derivative == -(v * source_exact) + (v ^ q_exact),\n    p * u.derivative - p * q == 0,\n    sorting=lambda f: f.order,\n)\nprint(system)\n\nN = 6\nn1 = N\nn2 = N\n\n\nm, rx, ry = rmsh.create_elliptical_mesh(\n    rmsh.MeshBlock(\n        None,\n        rmsh.BoundaryCurve.from_knots(\n            n1, (-1, -1), (-0.5, -1.1), (+0.5, -0.6), (+1, -1)\n        ),  # bottom\n        rmsh.BoundaryCurve.from_knots(\n            n2, (+1, -1), (+1.5, -0.7), (+1, 0.0), (+1, +1)\n        ),  # right\n        rmsh.BoundaryCurve.from_knots(\n            n1, (+1, +1), (0.5, 0.5), (-0.5, 0.5), (-1, +1)\n        ),  # top\n        rmsh.BoundaryCurve.from_knots(\n            n2, (-1, +1), (-0.5, 0.33), (-1, -0.5), (-1, -1)\n        ),  # left\n    )\n)\nassert rx < 1e-6 and ry < 1e-6\n\n# Show the mesh for the first time.\nfig, ax = plt.subplots(1, 1)\nxlim, ylim = m.plot(ax)\nax.set_xlim(1.1 * xlim[0], 1.1 * xlim[1])\nax.set_ylim(1.1 * ylim[0], 1.1 * ylim[1])\nax.set_aspect(\"equal\")\nplt.show()\n\npval = 1  # Test polynomial order\nmesh = mesh_create(pval, np.stack((m.pos_x, m.pos_y), axis=-1), m.lines + 1, m.surfaces)"
      ]
    },
    {
      "cell_type": "markdown",
      "metadata": {},
      "source": [
        "## Refinement Settings\n\nRefinement can be done in two ways - pre-solver refinement and post-solver refinement.\nFor pre-solver refinement, the choice of which elements are hierarchically refined is\nbased soley on geometrical and topological data. This is quite clearly because no\nsolution has been computed yet.\n\nPre-solver refinement is facilitated by methods\n:meth:`mfv2d._mfv2d.Mesh.split_depth_first` and\n:meth:`mfv2d._mfv2d.Mesh.split_breath_first`. Both accept a predicate function they\nevaluate for each element that could be refined, until a desired depth of refinement\nis reached, or all leaf elements have been checked already. The difference between the\ntwo is the order in which they examine leaves. Post-solver refinement is more involved,\nso it won't me discussed here in more detail.\n\nThe example bellow shows how the refinement will differ if first 3 out of 4 elements\nthat are checked are refined. Note that this is just for illustrative purposes and\nthat in a more realistic case for pre-solver refinement, geometry of each element\ncould be checked through the :meth:`mfv2d._mfv2d.Mesh.get_leaf_corners`.\n\n"
      ]
    },
    {
      "cell_type": "code",
      "execution_count": null,
      "metadata": {
        "collapsed": false
      },
      "outputs": [],
      "source": [
        "def division_predicate(m: Mesh, ie: int, counter: list[int]):\n    \"\"\"Test division predicate.\"\"\"\n    counter[0] += 1\n    cnt = counter[0]\n    if (cnt & 3) != 0:\n        orders = m.get_leaf_orders(ie)\n        return orders, orders, orders, orders\n    return None\n\n\ncounter = [0]\ndepth_mesh = mesh.split_depth_first(2, division_predicate, counter)\n\n# Reset the counter\ncounter = [0]\nbreath_mesh = mesh.split_breath_first(2, division_predicate, counter)\n\n\nfig, (ax1, ax2) = plt.subplots(1, 2, figsize=(12, 5))\n\nvertices_depth = [\n    depth_mesh.get_leaf_corners(idx) for idx in depth_mesh.get_leaf_indices()\n]\nax1.add_collection(\n    PolyCollection(\n        vertices_depth,\n        facecolors=\"none\",\n        antialiased=True,\n    )\n)\nfor idx, quad in zip(depth_mesh.get_leaf_indices(), vertices_depth):\n    ax1.text(\n        *np.mean(quad, axis=0),\n        str(idx),\n        ha=\"center\",\n        va=\"center\",\n        color=\"red\",\n        fontsize=6,\n    )\nax1.autoscale()\nax1.set(aspect=\"equal\", title=\"Depth first refinement\")\n\nvertices_breath = [\n    breath_mesh.get_leaf_corners(idx) for idx in breath_mesh.get_leaf_indices()\n]\nax2.add_collection(\n    PolyCollection(\n        vertices_breath,\n        facecolors=\"none\",\n        antialiased=True,\n    )\n)\nfor idx, quad in zip(breath_mesh.get_leaf_indices(), vertices_breath):\n    ax2.text(\n        *np.mean(quad, axis=0),\n        str(idx),\n        ha=\"center\",\n        va=\"center\",\n        color=\"red\",\n        fontsize=6,\n    )\nax2.autoscale()\nax2.set(aspect=\"equal\", title=\"Breath first refinement\")\n\nplt.show()\n\nsolution, stats, depth_mesh = solve_system_2d(\n    depth_mesh,\n    system_settings=SystemSettings(\n        system,\n        boundary_conditions=[\n            BoundaryCondition2DSteady(u, depth_mesh.boundary_indices, u_exact)\n        ],\n    ),\n    solver_settings=SolverSettings(absolute_tolerance=1e-10, relative_tolerance=0),\n    print_residual=False,\n    recon_order=25,\n)\n\n\nsol: pv.UnstructuredGrid = solution[-1]\npv.set_plot_theme(\"document\")\nplotter = pv.Plotter(shape=(1, 3), window_size=(1600, 800), off_screen=True)\n\nedges = sol.extract_all_edges()\nplotter.subplot(0, 0)\nplotter.add_mesh(sol.copy(), scalars=u.label, show_scalar_bar=True)\nplotter.add_mesh(edges, color=\"black\")\nplotter.add_text(\"Computed\")\nplotter.view_xy()\n\nsol.point_data[\"u_exact\"] = u_exact(sol.points[:, 0], sol.points[:, 1])\nplotter.subplot(0, 1)\nplotter.add_mesh(sol.copy(), scalars=\"u_exact\", show_scalar_bar=True)\nplotter.add_mesh(edges, color=\"black\")\nplotter.add_text(\"Exact\")\nplotter.view_xy()\n\n# Error at strong BCs is ~10^{-30}, so make sure to add this\n# value, otherwise it will ruin the colormap scale.\nsol.point_data[\"abs_error\"] = (\n    np.abs(sol.point_data[\"u_exact\"] - sol.point_data[u.label]) + 1e-4\n)\nplotter.subplot(0, 2)\nplotter.add_mesh(sol.copy(), scalars=\"abs_error\", show_scalar_bar=True, log_scale=True)\nplotter.add_mesh(edges, color=\"black\")\nplotter.add_text(\"Absolute Error\")\nplotter.view_xy()\n\n#\n# Computing the Results\n# ---------------------\n#\n# Just as was done for the un-refined result, here :math:`L^2` and :math:`H^1` errors\n# are computed.\n#\n\np_vals = np.arange(1, 7)\nh1_err = np.zeros(p_vals.size)\nl2_err = np.zeros(p_vals.size)\n\n\nfor ip, pval in enumerate(p_vals):\n    base_mesh = mesh_create(\n        pval, np.stack((m.pos_x, m.pos_y), axis=-1), m.lines + 1, m.surfaces\n    )\n\n    def refine_test(m: Mesh, i: int):\n        \"\"\"Check if element should be refined.\"\"\"\n        corners = m.get_leaf_corners(i)\n        if np.any(np.linalg.norm(corners, axis=-1) > 0.5):\n            order = m.get_leaf_orders(i)\n            return order, order, order, order\n        # Do not refine\n        return None\n\n    mesh = base_mesh.split_depth_first(2, refine_test)\n\n    solution, stats, mesh = solve_system_2d(\n        mesh,\n        system_settings=SystemSettings(\n            system,\n            boundary_conditions=[\n                BoundaryCondition2DSteady(u, mesh.boundary_indices, u_exact)\n            ],\n        ),\n        solver_settings=SolverSettings(absolute_tolerance=1e-10, relative_tolerance=0),\n        print_residual=False,\n        recon_order=25,\n    )\n\n    sol = solution[-1]\n    sol.point_data[\"u_err2\"] = (\n        sol.point_data[\"u\"] - u_exact(sol.points[:, 0], sol.points[:, 1])\n    ) ** 2\n    sol.point_data[\"q_err2\"] = np.linalg.norm(\n        sol.point_data[\"q\"] - q_exact(sol.points[:, 0], sol.points[:, 1]), axis=-1\n    )\n\n    total_error = sol.integrate_data()\n    h1_err[ip] = total_error.point_data[\"q_err2\"][0]\n    l2_err[ip] = np.sqrt(total_error.point_data[\"u_err2\"][0])\n    print(f\"Finished {pval=:d}\")"
      ]
    },
    {
      "cell_type": "markdown",
      "metadata": {},
      "source": [
        "## Results in $H^1$ Norm\n\n\n"
      ]
    },
    {
      "cell_type": "code",
      "execution_count": null,
      "metadata": {
        "collapsed": false
      },
      "outputs": [],
      "source": [
        "k1, k0 = np.polyfit((p_vals), np.log(h1_err), 1)\nk1, k0 = np.exp(k1), np.exp(k0)\n\nprint(f\"Solution converges with p as: {k0:.3g} * ({k1:.3g}) ** p in H1\")\nplt.figure()\n\nplt.scatter(p_vals, h1_err)\nplt.semilogy(\n    p_vals,\n    k0 * k1**p_vals,\n    label=f\"${k0:.3g} \\\\cdot \\\\left( {{{k1:+.3g}}}^p \\\\right)$\",\n    linestyle=\"dashed\",\n)\nplt.gca().set(\n    xlabel=\"$p$\",\n    ylabel=\"$\\\\left|\\\\left| \\\\nabla \\\\ times u - \\\\nabla \\\\times \\\\bar{u}\"\n    \" \\\\right|\\\\right|$\",\n    yscale=\"log\",\n)\nplt.legend()\nplt.grid()\nplt.show()"
      ]
    },
    {
      "cell_type": "markdown",
      "metadata": {},
      "source": [
        "## Results in $L^2$ Norm\n\n\n"
      ]
    },
    {
      "cell_type": "code",
      "execution_count": null,
      "metadata": {
        "collapsed": false
      },
      "outputs": [],
      "source": [
        "k1, k0 = np.polyfit((p_vals), np.log(l2_err), 1)\nk1, k0 = np.exp(k1), np.exp(k0)\n\nprint(f\"Solution converges with p as: {k0:.3g} * ({k1:.3g}) ** p in L2\")\nplt.figure()\n\nplt.scatter(p_vals, l2_err)\nplt.semilogy(\n    p_vals,\n    k0 * k1**p_vals,\n    label=f\"${k0:.3g} \\\\cdot \\\\left( {{{k1:+.3g}}}^p \\\\right)$\",\n    linestyle=\"dashed\",\n)\nplt.gca().set(\n    xlabel=\"$p$\",\n    ylabel=\"$\\\\left|\\\\left| u - \\\\bar{u} \\\\right|\\\\right|$\",\n    yscale=\"log\",\n)\nplt.legend()\nplt.grid()\nplt.show()"
      ]
    }
  ],
  "metadata": {
    "kernelspec": {
      "display_name": "Python 3",
      "language": "python",
      "name": "python3"
    },
    "language_info": {
      "codemirror_mode": {
        "name": "ipython",
        "version": 3
      },
      "file_extension": ".py",
      "mimetype": "text/x-python",
      "name": "python",
      "nbconvert_exporter": "python",
      "pygments_lexer": "ipython3",
      "version": "3.13.5"
    }
  },
  "nbformat": 4,
  "nbformat_minor": 0
}