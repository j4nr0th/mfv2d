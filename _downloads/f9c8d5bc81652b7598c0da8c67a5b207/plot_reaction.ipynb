{
  "cells": [
    {
      "cell_type": "markdown",
      "metadata": {},
      "source": [
        "\n# Reaction Equation\n\nThe reaction equation is probably the simples non-trivial unsteady differenital\nequation. It is given by equation :eq:`unsteady-reaction-direct-equation`. If\nthe forcing $f$ is only space dependent, then it has a very simple\nanalytical solution given by :eq:`unsteady-reaction-direct-solution`, where\n$u_\\mathrm{initial} = u(x, y, 0)$ and\n$u_\\mathrm{final} = f(x, y) / \\alpha$.\n\n\\begin{align}:label: unsteady-reaction-direct-equation\n\n    \\frac{\\partial u}{\\partial t} + \\alpha u = + f\\end{align}\n\n\\begin{align}:label: unsteady-reaction-direct-solution\n\n    u(x, y, t) = u_\\mathrm{initial} (1 - e^{-\\alpha t}) + u_\\mathrm{final}\n    e^{-\\alpha t}\\end{align}\n\n\nIn the 2D case with differential geometry, this problem can be solved either\nby taking $u$ to be a 0-form or a 2-form. For this example, the 0-form\nis taken.\n\nFor the error measurements used to check for convergence, both $L^2$ and\n$H^1$ norms will be used to compute error for each time step. These values\nwill then be integrated using trapezoidal integration to find total error over\nthe entire time march. This error will then be compared for different number of\ntime steps over the same time period.\n"
      ]
    },
    {
      "cell_type": "code",
      "execution_count": null,
      "metadata": {
        "collapsed": false
      },
      "outputs": [],
      "source": [
        "import numpy as np\nimport numpy.typing as npt\nimport pyvista as pv\nimport rmsh\nfrom matplotlib import pyplot as plt\nfrom mfv2d import (\n    KFormSystem,\n    KFormUnknown,\n    SolverSettings,\n    SystemSettings,\n    TimeSettings,\n    UnknownFormOrder,\n    mesh_create,\n    solve_system_2d,\n)\nfrom scipy.integrate import trapezoid"
      ]
    },
    {
      "cell_type": "markdown",
      "metadata": {},
      "source": [
        "## Setup\n\nThe initial and final solutions were taken as\n$u_\\mathrm{initial} = 2 \\cos(\\frac{\\pi x}{2}) \\cos(\\frac{\\pi y}{2})$\nand $u_\\mathrm{final} = \\sin(\\pi x) \\cos(\\pi y)$. As for the value\nof the rate coefficient, the value of $\\alpha = 0.25$ was chosen.\n\nThe problem would be simulated on the time interval $t \\in [0, 10]$.\n\n\n\n"
      ]
    },
    {
      "cell_type": "code",
      "execution_count": null,
      "metadata": {
        "collapsed": false
      },
      "outputs": [],
      "source": [
        "T_END = 10\nALPHA = 0.25\n\n\ndef initial_u(x: npt.NDArray[np.floating], y: npt.NDArray[np.floating]):\n    \"\"\"Screw initial solution.\"\"\"\n    return 2 * np.cos(np.pi * x / 2) * np.cos(np.pi * y / 2)\n\n\ndef initial_q(x: npt.NDArray[np.floating], y: npt.NDArray[np.floating]):\n    \"\"\"Screw initial curl.\"\"\"\n    return np.stack(\n        (\n            -np.pi * np.cos(np.pi * x / 2) * np.sin(np.pi * y / 2),\n            np.pi * np.sin(np.pi * x / 2) * np.cos(np.pi * y / 2),\n        ),\n        axis=-1,\n    )\n\n\ndef final_u(x: npt.NDArray[np.floating], y: npt.NDArray[np.floating]):\n    \"\"\"Steady state forcing.\"\"\"\n    return np.sin(np.pi * x) * np.cos(np.pi * y)\n\n\ndef final_q(x: npt.NDArray[np.floating], y: npt.NDArray[np.floating]):\n    \"\"\"Steady state curl.\"\"\"\n    return np.stack(\n        (\n            -np.pi * np.sin(np.pi * x) * np.sin(np.pi * y),\n            -np.pi * np.cos(np.pi * x) * np.cos(np.pi * y),\n        ),\n        axis=-1,\n    )"
      ]
    },
    {
      "cell_type": "markdown",
      "metadata": {},
      "source": [
        "## System Setup\n\nThe system being solved is formulated bellow. An additional equation was introducted\nto obtain the curl of the solution, so that the $H^1$ norm could be computed.\n\n\n"
      ]
    },
    {
      "cell_type": "code",
      "execution_count": null,
      "metadata": {
        "collapsed": false
      },
      "outputs": [],
      "source": [
        "u = KFormUnknown(\"u\", UnknownFormOrder.FORM_ORDER_0)\nv = u.weight\nq = KFormUnknown(\"q\", UnknownFormOrder.FORM_ORDER_1)\np = q.weight\n\nsystem = KFormSystem(\n    ALPHA * (v * u) == ALPHA * (v * final_u),\n    p * q - p * u.derivative == 0,\n    sorting=lambda f: f.order,\n)"
      ]
    },
    {
      "cell_type": "markdown",
      "metadata": {},
      "source": [
        "## Make the Mesh\n\nNext the mesh would be created. In this case, it was taken to be a\nconvexly deformed square.\n\n\n\n"
      ]
    },
    {
      "cell_type": "code",
      "execution_count": null,
      "metadata": {
        "collapsed": false
      },
      "outputs": [],
      "source": [
        "N = 6\nP = 3\n\nn1 = N\nn2 = N\n\n\nrect_mesh, rx, ry = rmsh.create_elliptical_mesh(\n    rmsh.MeshBlock(\n        label=None,\n        bottom=rmsh.BoundaryCurve.from_knots(n1, (-1, -1), (0, -2), (+1, -1)),\n        right=rmsh.BoundaryCurve.from_knots(n2, (+1, -1), (+2, 0), (+1, +1)),\n        top=rmsh.BoundaryCurve.from_knots(n2, (+1, +1), (0, +2), (-1, +1)),\n        left=rmsh.BoundaryCurve.from_knots(n2, (-1, +1), (-2, 0), (-1, -1)),\n    )\n)\nassert rx < 1e-6 and ry < 1e-6\n\nmesh = mesh_create(\n    P,\n    np.stack((rect_mesh.pos_x, rect_mesh.pos_y), axis=-1),\n    rect_mesh.lines + 1,\n    rect_mesh.surfaces,\n)\n\nfig, ax = plt.subplots(1, 1)\n\nxlim, ylim = rect_mesh.plot(ax)\nax.set(\n    aspect=\"equal\",\n    xlim=(1.1 * xlim[0], 1.1 * xlim[1]),\n    ylim=(1.1 * ylim[0], 1.1 * ylim[1]),\n    xlabel=\"$x$\",\n    ylabel=\"$y$\",\n)\nfig.tight_layout()\nplt.show()"
      ]
    },
    {
      "cell_type": "markdown",
      "metadata": {},
      "source": [
        "## Run Unsteady Simulations\n\nWith the mesh and system defined, the simulations can be run. The run is done for\n10, 20, 50, 100, and 200 time steps.\n\n"
      ]
    },
    {
      "cell_type": "code",
      "execution_count": null,
      "metadata": {
        "collapsed": false
      },
      "outputs": [],
      "source": [
        "nt_vals = np.array((10, 20, 50, 100, 200))\nh1_err = np.zeros(nt_vals.size)\nl2_err = np.zeros(nt_vals.size)\ndt_vals = np.zeros(nt_vals.size)\n\nfor i_nt, nt in enumerate(nt_vals):\n    dt = float(T_END / nt)\n    solutions, stats, mesh = solve_system_2d(\n        mesh,\n        system_settings=SystemSettings(system, initial_conditions={u: initial_u}),\n        solver_settings=SolverSettings(\n            maximum_iterations=10, relative_tolerance=0, absolute_tolerance=1e-10\n        ),\n        time_settings=TimeSettings(dt=dt, nt=nt, time_march_relations={v: u}),\n        recon_order=25,\n    )\n\n    n_sol = len(solutions)\n    h1_err_vals = np.zeros(n_sol)\n    l2_err_vals = np.zeros(n_sol)\n    time_vals = np.zeros(n_sol)\n\n    for isol, sol in enumerate(solutions):\n        time = float(sol.field_data[\"time\"][0])\n\n        u_exact = initial_u(sol.points[:, 0], sol.points[:, 1]) * np.exp(\n            -ALPHA * time\n        ) + final_u(sol.points[:, 0], sol.points[:, 1]) * (1 - np.exp(-ALPHA * time))\n        q_exact = initial_q(sol.points[:, 0], sol.points[:, 1]) * np.exp(\n            -ALPHA * time\n        ) + final_q(sol.points[:, 0], sol.points[:, 1]) * (1 - np.exp(-ALPHA * time))\n\n        u_err = sol.point_data[\"u\"] - u_exact\n\n        q_err = sol.point_data[\"q\"] - q_exact\n        sol.point_data[\"u_err\"] = (u_err) ** 2\n        # sol.point_data[\"u_real\"] = u_exact\n        sol.point_data[\"q_err\"] = np.linalg.norm(q_err, axis=-1)\n        # sol.point_data[\"q_real\"] = q_exact\n\n        integrated = sol.integrate_data()\n        time_vals[isol] = time\n        h1_err_vals[isol] = integrated.point_data[\"q_err\"][0]\n        l2_err_vals[isol] = np.sqrt(integrated.point_data[\"u_err\"][0])\n\n    total_h1_error = trapezoid(h1_err_vals, time_vals)\n    total_l2_error = trapezoid(l2_err_vals, time_vals)\n    h1_err[i_nt] = total_h1_error\n    l2_err[i_nt] = total_l2_error\n    dt_vals[i_nt] = dt\n    # print(f\"For {dt=} total error was {total_h1_error:.3e}.\")"
      ]
    },
    {
      "cell_type": "markdown",
      "metadata": {},
      "source": [
        "## Plot the Time Error\n\nThe total integrated time error in the two norms is now examined.\n\n### $H^1$ Norm\n\n"
      ]
    },
    {
      "cell_type": "code",
      "execution_count": null,
      "metadata": {
        "collapsed": false
      },
      "outputs": [],
      "source": [
        "k1, k0 = np.polyfit(np.log(dt_vals), np.log(h1_err), 1)\nk0 = np.exp(k0)\n\nfig, ax = plt.subplots(1, 1)\nax.scatter(dt_vals, h1_err)\nax.plot(\n    dt_vals,\n    k0 * dt_vals**k1,\n    linestyle=\"dashed\",\n    label=f\"${k0:.3g} \\\\cdot {{\\\\Delta t}}^{{{k1:+.3g}}}$\",\n)\nax.grid()\nax.legend()\nax.set(\n    xlabel=\"$\\\\Delta t$\",\n    ylabel=\"$\\\\int \\\\varepsilon_{H^{1}} {dt}$\",\n    xscale=\"log\",\n    yscale=\"log\",\n)\nax.xaxis_inverted()\nfig.tight_layout()\nplt.show()"
      ]
    },
    {
      "cell_type": "markdown",
      "metadata": {},
      "source": [
        "### $L^2$ Norm\n\n"
      ]
    },
    {
      "cell_type": "code",
      "execution_count": null,
      "metadata": {
        "collapsed": false
      },
      "outputs": [],
      "source": [
        "k1, k0 = np.polyfit(np.log(dt_vals), np.log(l2_err), 1)\nk0 = np.exp(k0)\n\nfig, ax = plt.subplots(1, 1)\nax.scatter(dt_vals, l2_err)\nax.plot(\n    dt_vals,\n    k0 * dt_vals**k1,\n    linestyle=\"dashed\",\n    label=f\"${k0:.3g} \\\\cdot {{\\\\Delta t}}^{{{k1:+.3g}}}$\",\n)\nax.grid()\nax.legend()\nax.set(\n    xlabel=\"$\\\\Delta t$\",\n    ylabel=\"$\\\\int \\\\varepsilon_{L^{1}} {dt}$\",\n    xscale=\"log\",\n    yscale=\"log\",\n)\nax.xaxis_inverted()\nfig.tight_layout()\nplt.show()"
      ]
    },
    {
      "cell_type": "markdown",
      "metadata": {},
      "source": [
        "## Plot Solution's Evolution\n\nWith :mod:`pyvista` the unsteady solution can even be plotted.\n\n"
      ]
    },
    {
      "cell_type": "code",
      "execution_count": null,
      "metadata": {
        "collapsed": false
      },
      "outputs": [],
      "source": [
        "plotter = pv.Plotter(off_screen=True, window_size=(1600, 800))\n\nplotter.open_gif(\"unsteady-reaction-direct-solution.gif\", fps=30)\n\nfor sol in solutions:\n    sol.points[:, 2] = sol.point_data[\"u\"]\n    plotter.add_mesh(sol, scalars=None, name=\"solution\", show_scalar_bar=False)\n    plotter.add_text(f\"time = {sol.field_data['time'][0]:.1f}\", name=\"time\")\n    plotter.write_frame()\n\nplotter.close()"
      ]
    }
  ],
  "metadata": {
    "kernelspec": {
      "display_name": "Python 3",
      "language": "python",
      "name": "python3"
    },
    "language_info": {
      "codemirror_mode": {
        "name": "ipython",
        "version": 3
      },
      "file_extension": ".py",
      "mimetype": "text/x-python",
      "name": "python",
      "nbconvert_exporter": "python",
      "pygments_lexer": "ipython3",
      "version": "3.13.5"
    }
  },
  "nbformat": 4,
  "nbformat_minor": 0
}