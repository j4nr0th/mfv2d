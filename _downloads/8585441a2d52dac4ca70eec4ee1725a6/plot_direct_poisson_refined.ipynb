{
  "cells": [
    {
      "cell_type": "markdown",
      "metadata": {},
      "source": [
        "\n# Poisson Equation with Local Refinement\n\nOne of key features of :mod:`mfv2d` is the ability to locally refine the mesh with\nboth hierarchical refinement (divide elements) or with polynomial refinement\n(increase order of elements).\n\nThis examples is otherwise identical to `sphx_glr_auto_examples_steady_plot_direct_poisson.py`,\nwhere the direct Poisson is solved in a straight-forward manner. As such, only\ntext and comments added to the code are pertaining to features not used in that one.\n"
      ]
    },
    {
      "cell_type": "code",
      "execution_count": null,
      "metadata": {
        "collapsed": false
      },
      "outputs": [],
      "source": [
        "import numpy as np\nimport numpy.typing as npt\nimport pyvista as pv\nimport rmsh\nfrom matplotlib import pyplot as plt\nfrom mfv2d import (\n    BoundaryCondition2DSteady,\n    KFormSystem,\n    KFormUnknown,\n    Mesh2D,\n    RefinementSettings,\n    SolverSettings,\n    SystemSettings,\n    solve_system_2d,\n)\n\n\ndef u_exact(x: npt.NDArray[np.float64], y: npt.NDArray[np.float64]):\n    \"\"\"Exact solution.\"\"\"\n    return 2 * np.cos(np.pi / 2 * x) * np.cos(np.pi / 2 * y) + 5\n\n\ndef q_exact(x: npt.NDArray[np.float64], y: npt.NDArray[np.float64]):\n    \"\"\"Exact curl of solution.\"\"\"\n    return np.stack(\n        (\n            -np.pi * np.cos(np.pi / 2 * x) * np.sin(np.pi / 2 * y),\n            np.pi * np.sin(np.pi / 2 * x) * np.cos(np.pi / 2 * y),\n        ),\n        axis=-1,\n    )\n\n\ndef source_exact(x: npt.NDArray[np.floating], y: npt.NDArray[np.floating]):\n    \"\"\"Exact heat flux divergence.\"\"\"\n    return -(np.pi**2) * np.cos(np.pi / 2 * x) * np.cos(np.pi / 2 * y)\n\n\nq = KFormUnknown(2, \"q\", 1)\np = q.weight\nu = KFormUnknown(2, \"u\", 0)\nv = u.weight\n\nsystem = KFormSystem(\n    v.derivative * u.derivative == -(v * source_exact) + (v ^ q_exact),\n    p * u.derivative - p * q == 0,\n    sorting=lambda f: f.order,\n)\nprint(system)\n\nN = 6\nn1 = N\nn2 = N\n\n\nm, rx, ry = rmsh.create_elliptical_mesh(\n    rmsh.MeshBlock(\n        None,\n        rmsh.BoundaryCurve.from_knots(\n            n1, (-1, -1), (-0.5, -1.1), (+0.5, -0.6), (+1, -1)\n        ),  # bottom\n        rmsh.BoundaryCurve.from_knots(\n            n2, (+1, -1), (+1.5, -0.7), (+1, 0.0), (+1, +1)\n        ),  # right\n        rmsh.BoundaryCurve.from_knots(\n            n1, (+1, +1), (0.5, 0.5), (-0.5, 0.5), (-1, +1)\n        ),  # top\n        rmsh.BoundaryCurve.from_knots(\n            n2, (-1, +1), (-0.5, 0.33), (-1, -0.5), (-1, -1)\n        ),  # left\n    )\n)\nassert rx < 1e-6 and ry < 1e-6\n\n# Show the mesh for the first time.\nfig, ax = plt.subplots(1, 1)\nxlim, ylim = m.plot(ax)\nax.set_xlim(1.1 * xlim[0], 1.1 * xlim[1])\nax.set_ylim(1.1 * ylim[0], 1.1 * ylim[1])\nax.set_aspect(\"equal\")\nplt.show()\n\npval = 1  # Test polynomial order\nmsh = Mesh2D(pval, np.stack((m.pos_x, m.pos_y), axis=-1), m.lines + 1, m.surfaces)"
      ]
    },
    {
      "cell_type": "markdown",
      "metadata": {},
      "source": [
        "## Refinement Settings\n\nHow refinement is done is specified through :class:`mfv2d.RefinementSettings`.\nFor this example, first the number of division layers is specified. This means\nthat each element and its children can not be divided more than that number of\ntimes. The second is the ``division_predicate``, which is called for each element\nto determine if it should be divided. In this case, it is done quite arbitrarely,\nbeing done for every three out of four elements, but it can also use element\ninformation to determine whether or not it should occurr.\n\n"
      ]
    },
    {
      "cell_type": "code",
      "execution_count": null,
      "metadata": {
        "collapsed": false
      },
      "outputs": [],
      "source": [
        "counter = 0\n\n\ndef division_predicate(_, _idx: int) -> bool:\n    \"\"\"Check if element should be divided.\"\"\"\n    global counter\n    cnt = counter\n    counter += 1\n    return (cnt & 3) != 0\n\n\nrefinement_settings = RefinementSettings(\n    refinement_levels=2,\n    division_predicate=division_predicate,\n)\n\n\nsolution, stats = solve_system_2d(\n    msh,\n    system_settings=SystemSettings(\n        system,\n        boundary_conditions=[BoundaryCondition2DSteady(u, msh.boundary_indices, u_exact)],\n    ),\n    solver_settings=SolverSettings(absolute_tolerance=1e-10, relative_tolerance=0),\n    refinement_settings=refinement_settings,\n    print_residual=False,\n    recon_order=25,\n)\n\n\nsol: pv.UnstructuredGrid = solution[-1]\npv.set_plot_theme(\"document\")\nplotter = pv.Plotter(shape=(1, 3), window_size=(1600, 800), off_screen=True)\n\nedges = sol.extract_all_edges()\nplotter.subplot(0, 0)\nplotter.add_mesh(sol.copy(), scalars=u.label, show_scalar_bar=True)\nplotter.add_mesh(edges, color=\"black\")\nplotter.add_text(\"Computed\")\nplotter.view_xy()\n\nsol.point_data[\"u_exact\"] = u_exact(sol.points[:, 0], sol.points[:, 1])\nplotter.subplot(0, 1)\nplotter.add_mesh(sol.copy(), scalars=\"u_exact\", show_scalar_bar=True)\nplotter.add_mesh(edges, color=\"black\")\nplotter.add_text(\"Exact\")\nplotter.view_xy()\n\n# Error at strong BCs is ~10^{-30}, so make sure to add this\n# value, otherwise it will ruin the colormap scale.\nsol.point_data[\"abs_error\"] = (\n    np.abs(sol.point_data[\"u_exact\"] - sol.point_data[u.label]) + 1e-4\n)\nplotter.subplot(0, 2)\nplotter.add_mesh(sol.copy(), scalars=\"abs_error\", show_scalar_bar=True, log_scale=True)\nplotter.add_mesh(edges, color=\"black\")\nplotter.add_text(\"Absolute Error\")\nplotter.view_xy()\n\n#\n# Computing the Results\n# ---------------------\n#\n# Just as was done for the un-refined result, here :math:`L^2` and :math:`H^1` errors\n# are computed.\n#\n\np_vals = np.arange(1, 7)\nh1_err = np.zeros(p_vals.size)\nl2_err = np.zeros(p_vals.size)\n\n\nfor ip, pval in enumerate(p_vals):\n    msh = Mesh2D(pval, np.stack((m.pos_x, m.pos_y), axis=-1), m.lines + 1, m.surfaces)\n\n    def refine_test(e, i: int) -> bool:\n        \"\"\"Check if element should be refined.\"\"\"\n        del i\n        corners = np.array([e.bottom_left, e.bottom_right, e.top_right, e.top_left])\n        return bool(np.any(np.linalg.norm(corners, axis=-1) > 0.5))\n\n    def divide_new(\n        order: int, level: int, max_level: int\n    ) -> tuple[int | None, tuple[int, int, int, int]]:\n        \"\"\"Keep child order equal to parent and set parent to double the child.\"\"\"\n        del level, max_level\n        v = order\n        return None, (v, v, v, v)\n\n    solution, stats = solve_system_2d(\n        msh,\n        system_settings=SystemSettings(\n            system,\n            boundary_conditions=[\n                BoundaryCondition2DSteady(u, msh.boundary_indices, u_exact)\n            ],\n        ),\n        solver_settings=SolverSettings(absolute_tolerance=1e-10, relative_tolerance=0),\n        refinement_settings=refinement_settings,\n        print_residual=False,\n        recon_order=25,\n    )\n\n    sol = solution[-1]\n    sol.point_data[\"u_err2\"] = (\n        sol.point_data[\"u\"] - u_exact(sol.points[:, 0], sol.points[:, 1])\n    ) ** 2\n    sol.point_data[\"q_err2\"] = np.linalg.norm(\n        sol.point_data[\"q\"] - q_exact(sol.points[:, 0], sol.points[:, 1]), axis=-1\n    )\n\n    total_error = sol.integrate_data()\n    h1_err[ip] = total_error.point_data[\"q_err2\"][0]\n    l2_err[ip] = np.sqrt(total_error.point_data[\"u_err2\"][0])\n    print(f\"Finished {pval=:d}\")"
      ]
    },
    {
      "cell_type": "markdown",
      "metadata": {},
      "source": [
        "## Results in $H^1$ Norm\n\n\n"
      ]
    },
    {
      "cell_type": "code",
      "execution_count": null,
      "metadata": {
        "collapsed": false
      },
      "outputs": [],
      "source": [
        "k1, k0 = np.polyfit((p_vals), np.log(h1_err), 1)\nk1, k0 = np.exp(k1), np.exp(k0)\n\nprint(f\"Solution converges with p as: {k0:.3g} * ({k1:.3g}) ** p in H1\")\nplt.figure()\n\nplt.scatter(p_vals, h1_err)\nplt.semilogy(\n    p_vals,\n    k0 * k1**p_vals,\n    label=f\"${k0:.3g} \\\\cdot \\\\left( {{{k1:+.3g}}}^p \\\\right)$\",\n    linestyle=\"dashed\",\n)\nplt.gca().set(\n    xlabel=\"$p$\",\n    ylabel=\"$\\\\left|\\\\left| \\\\nabla \\\\ times u - \\\\nabla \\\\times \\\\bar{u}\"\n    \" \\\\right|\\\\right|$\",\n    yscale=\"log\",\n)\nplt.legend()\nplt.grid()\nplt.show()"
      ]
    },
    {
      "cell_type": "markdown",
      "metadata": {},
      "source": [
        "## Results in $L^2$ Norm\n\n\n"
      ]
    },
    {
      "cell_type": "code",
      "execution_count": null,
      "metadata": {
        "collapsed": false
      },
      "outputs": [],
      "source": [
        "k1, k0 = np.polyfit((p_vals), np.log(l2_err), 1)\nk1, k0 = np.exp(k1), np.exp(k0)\n\nprint(f\"Solution converges with p as: {k0:.3g} * ({k1:.3g}) ** p in L2\")\nplt.figure()\n\nplt.scatter(p_vals, l2_err)\nplt.semilogy(\n    p_vals,\n    k0 * k1**p_vals,\n    label=f\"${k0:.3g} \\\\cdot \\\\left( {{{k1:+.3g}}}^p \\\\right)$\",\n    linestyle=\"dashed\",\n)\nplt.gca().set(\n    xlabel=\"$p$\",\n    ylabel=\"$\\\\left|\\\\left| u - \\\\bar{u} \\\\right|\\\\right|$\",\n    yscale=\"log\",\n)\nplt.legend()\nplt.grid()\nplt.show()"
      ]
    }
  ],
  "metadata": {
    "kernelspec": {
      "display_name": "Python 3",
      "language": "python",
      "name": "python3"
    },
    "language_info": {
      "codemirror_mode": {
        "name": "ipython",
        "version": 3
      },
      "file_extension": ".py",
      "mimetype": "text/x-python",
      "name": "python",
      "nbconvert_exporter": "python",
      "pygments_lexer": "ipython3",
      "version": "3.13.5"
    }
  },
  "nbformat": 4,
  "nbformat_minor": 0
}