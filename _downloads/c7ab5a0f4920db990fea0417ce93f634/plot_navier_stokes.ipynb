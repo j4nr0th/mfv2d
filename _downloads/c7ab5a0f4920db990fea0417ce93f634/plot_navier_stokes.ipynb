{
  "cells": [
    {
      "cell_type": "markdown",
      "metadata": {},
      "source": [
        "\n# Incompressible Navier-Stokes Equation\n\nIncompressible Navier-Stokes is at the heart of modeling low-speed\naerodynamics it can be seen as a Stokes flow eqution, with a non-linear\nsource term $\\omega \\times u$. The full system is given as per\nas system :eq:`steady-ns-equation`. When written with differential geometry,\nit becomes system :eq:`steady-stokes-diff-geom`.\n\n\\begin{align}:label: steady-ns-equation\n\n    \\omega - \\nabla \\times u = 0\n    -\\frac{1}{\\mathrm{Re}} \\nabla \\omega + \\nabla p = \\omega \\times u + f\n    \\nabla \\cdot u = 0\\end{align}\n\n\\begin{align}:label: steady-ns-diff-geom\n\n    \\omega^{(0)} - \\star \\mathrm{d} \\star u^{(1)} = 0\n\n    -\\frac{1}{\\mathrm{Re}} \\mathrm{d} \\omega^{(0)} + \\star \\mathrm{d} \\star p^{(2)} =\n    \\star i_{{u^{(1)}}^\\flat} \\star \\omega^{(0)} - f^{(1)}\n\n    \\mathrm{d} u^{(1)} = 0\\end{align}\n\nThe variational form of this system is given by\nsystem :eq:`steady-ns-variational`.\n\n\\begin{align}:label: steady-ns-variational\n\n    \\left(\\phi^{(0)}, \\omega^{(0)}\\right)_\\Omega - \\left(\\mathrm{d} p^{(0)}, u^{(1)}\\right)_\\Omega =\n    \\int_{\\partial \\Omega} \\phi^{(0)} \\wedge \\star u^{(1)}\\quad\\forall \\phi^{(0)} \\in \\Lambda^{(0)}(\\mathcal{M})\n\n    -\\frac{1}{\\mathrm{Re}}\\left(v^{(1)}, \\mathrm{d} \\omega^{(0)}\\right)_\\Omega +\n    \\left(\\mathrm{d} v^{(1)}, p^{(2)}\\right)_\\Omega = \\left(v^{(1)}, f^{(1)}\\right)_\\Omega +\n    \\int_{\\partial \\Omega} v^{(1)} \\wedge \\star p^{(2)}\n    + \\left(v^{(1)}, \\star i_{{u^{(1)}}^\\flat} \\star \\omega^{(0)} \\right)_\\Omega\n    \\quad\\forall v^{(1)} \\in \\Lambda^{(1)}(\\mathcal{M})\n\n    \\left(r^{(2)}, \\mathrm{d} u^{(1)}\\right)_\\Omega = 0 \\quad\\forall r^{(2)} \\in \\Lambda^{(2)}(\\mathcal{M})\\end{align}\n"
      ]
    },
    {
      "cell_type": "code",
      "execution_count": null,
      "metadata": {
        "collapsed": false
      },
      "outputs": [],
      "source": [
        "import numpy as np\nimport pyvista as pv\nimport rmsh\nfrom mfv2d import (\n    BoundaryCondition2DSteady,\n    KFormSystem,\n    KFormUnknown,\n    Mesh2D,\n    SolverSettings,\n    SystemSettings,\n    solve_system_2d,\n)"
      ]
    },
    {
      "cell_type": "markdown",
      "metadata": {},
      "source": [
        "## Setup\n\nThe exact solution is given by equation :eq:`steady-ns-velocity`. Vorticity\nis given as per equation :eq:`steady-ns-vorticity`.\n\n\\begin{align}:label: steady-ns-velocity\n\n    u^{(1)} = \\sin(y) dy - \\cos(x) dx\\end{align}\n\n\\begin{align}:label: steady-ns-vorticity\n\n    \\omega^{(0)} = - (\\sin(x) + \\cos(y))\\end{align}\n\nForcing given for that solution is given by equation :eq:`steady-ns-forcing`.\n\n\\begin{align}:label: steady-ns-forcing\n\n    f^{(1)} = (\\cos(x) \\cos(y) + \\frac{1}{\\mathrm{Re}} \\sin(y)) dy -\n    (- \\sin(x) \\sin(y) + \\frac{1}{\\mathrm{Re}} \\cos(x) dx)\\end{align}\n\nThe Reynolds number is also chosen to be $\\mathrm{Re} = 1000$, at which point\nthe advection term is very strongly dominant.\n\n"
      ]
    },
    {
      "cell_type": "code",
      "execution_count": null,
      "metadata": {
        "collapsed": false
      },
      "outputs": [],
      "source": [
        "RE = 1e3\n\n\ndef exact_velocty(x, y):\n    \"\"\"Exact velocity solution.\"\"\"\n    return np.stack((np.sin(y) + 0 * x, np.cos(x) + 0 * y), axis=-1)\n\n\ndef exact_vorticity(x, y):\n    \"\"\"Exact vorticity solution.\"\"\"\n    return -(np.sin(x) + np.cos(y))\n\n\ndef exact_forcing(x, y):\n    \"\"\"Exact momentum forcing.\"\"\"\n    return np.stack(\n        (\n            np.cos(x) * np.cos(y) + 1 / RE * np.sin(y),\n            -np.sin(x) * np.sin(y) + 1 / RE * np.cos(x),\n        ),\n        axis=-1,\n    )"
      ]
    },
    {
      "cell_type": "markdown",
      "metadata": {},
      "source": [
        "## System Setup\n\nThe system setup is as can be expected based on the\n`sphx_glr_auto_examples_steady_plot_stokes_flow.py`. The main difference is the\naddition of the advection term on the right side of the momentum equations.\n\n\n\n\n"
      ]
    },
    {
      "cell_type": "code",
      "execution_count": null,
      "metadata": {
        "collapsed": false
      },
      "outputs": [],
      "source": [
        "pre = KFormUnknown(2, \"pre\", 2)\nw_pre = pre.weight\nvel = KFormUnknown(2, \"vel\", 1)\nw_vel = vel.weight\nvor = KFormUnknown(2, \"vor\", 0)\nw_vor = vor.weight\ndiv = KFormUnknown(2, \"div\", 2)\nw_div = div.weight\n\nsystem = KFormSystem(\n    w_vor.derivative * vel - w_vor * vor == w_vor ^ exact_velocty,\n    # No weak BC for pressure, since normal velocity is given\n    (1 / RE) * (w_vel * vor.derivative) + w_vel.derivative * pre\n    == w_vel * exact_forcing - (w_vel * (vel ^ (~vor))),\n    w_pre * vel.derivative == 0,\n    w_div * div - w_div * vel.derivative == 0,  # Divergence extraction.\n    sorting=lambda f: f.order,\n)\nprint(system)"
      ]
    },
    {
      "cell_type": "markdown",
      "metadata": {},
      "source": [
        "## Make the Mesh\n\nThe mesh for this problem has to be either fine enough or have high enough\nelements. Since the problem is non-linear with no initial guess, it can be\na bit unstable to compute when under-resolved.\n\n\n"
      ]
    },
    {
      "cell_type": "code",
      "execution_count": null,
      "metadata": {
        "collapsed": false
      },
      "outputs": [],
      "source": [
        "N = 8\nP = 6\n\nn1 = N\nn2 = N\n\nrect_mesh, rx, ry = rmsh.create_elliptical_mesh(\n    rmsh.MeshBlock(\n        label=None,\n        bottom=rmsh.BoundaryCurve.from_knots(n1, (-1, -1), (+1, -1)),\n        right=rmsh.BoundaryCurve.from_knots(n2, (+1, -1), (+1, +1)),\n        top=rmsh.BoundaryCurve.from_knots(n1, (+1, +1), (-1, +1)),\n        left=rmsh.BoundaryCurve.from_knots(n2, (-1, +1), (-1, -1)),\n    )\n)\nassert rx < 1e-6, ry < 1e-6\n\nmesh = Mesh2D(\n    P,\n    np.stack((rect_mesh.pos_x, rect_mesh.pos_y), axis=-1),\n    rect_mesh.lines + 1,\n    rect_mesh.surfaces,\n)"
      ]
    },
    {
      "cell_type": "markdown",
      "metadata": {},
      "source": [
        "## Solve the System\n\nHere we solve the system.\n\n\n"
      ]
    },
    {
      "cell_type": "code",
      "execution_count": null,
      "metadata": {
        "collapsed": false
      },
      "outputs": [],
      "source": [
        "solutions, stats = solve_system_2d(\n    mesh,\n    SystemSettings(\n        system,\n        [BoundaryCondition2DSteady(vel, mesh.boundary_indices, exact_velocty)],\n        [(0.0, pre)],\n    ),\n    solver_settings=SolverSettings(\n        maximum_iterations=20,\n        absolute_tolerance=1e-10,\n        relative_tolerance=0,\n    ),\n    print_residual=False,\n    recon_order=25,\n)\nprint(stats)"
      ]
    },
    {
      "cell_type": "markdown",
      "metadata": {},
      "source": [
        "## Print Statistics\n\nQuick statistics for this solution, such as velocity and vorticity erros are\nextracted from there.\n\n\n"
      ]
    },
    {
      "cell_type": "code",
      "execution_count": null,
      "metadata": {
        "collapsed": false
      },
      "outputs": [],
      "source": [
        "solution = solutions[-1]\n\nvel_exact = exact_velocty(solution.points[:, 0], solution.points[:, 1])\nvor_exact = exact_vorticity(solution.points[:, 0], solution.points[:, 1])\n\nsolution.point_data[\"vel_exact\"] = vel_exact\nsolution.point_data[\"vor_exact\"] = vor_exact\n\nsolution.point_data[\"vel_err\"] = np.linalg.norm(\n    vel_exact - solution.point_data[vel.label], axis=-1\n)\nsolution.point_data[\"vor_err\"] = np.abs(vor_exact - solution.point_data[vor.label])\n\nintegraded = solution.integrate_data()\n\nerr_vel = float(integraded.point_data[\"vel_err\"][0])\nerr_vor = float(integraded.point_data[\"vor_err\"][0])\ntotal_pre = float(integraded.point_data[pre.label][0])\n\nprint(f\"Integrated pressure is {total_pre:.3e}\")\nprint(f\"{err_vel=:.3e}\")\nprint(f\"{err_vor=:.3e}\")"
      ]
    },
    {
      "cell_type": "markdown",
      "metadata": {},
      "source": [
        "## Check the Divergence\n\nAs was shown in the Stokes flow example, here the flow is completely\ndivergence flow. This guarantees that the pressure solution is sensible.\n\n\n\n\n\n"
      ]
    },
    {
      "cell_type": "code",
      "execution_count": null,
      "metadata": {
        "collapsed": false
      },
      "outputs": [],
      "source": [
        "plotter = pv.Plotter(off_screen=True, shape=(1, 1), window_size=(1600, 800))\n\nsolution.point_data[\"div\"] = np.abs(solution.point_data[\"div\"])\nplotter.add_mesh(solution, scalars=\"div\", log_scale=True, show_scalar_bar=True)\nplotter.add_mesh(solution.extract_all_edges(), color=\"black\")\nplotter.view_xy()\nprint(\n    f\"Highest value of divergence in the domain is {solution.point_data['div'].max():.3e}\"\n)"
      ]
    },
    {
      "cell_type": "markdown",
      "metadata": {},
      "source": [
        "## Plot Streamlines\n\nPyvista allows for very simple 2D streamline plots.\n\n\n"
      ]
    },
    {
      "cell_type": "code",
      "execution_count": null,
      "metadata": {
        "collapsed": false
      },
      "outputs": [],
      "source": [
        "plotter = pv.Plotter(off_screen=True, shape=(1, 1), window_size=(1600, 800))\n\nsolution.point_data[\"div\"] = np.abs(solution.point_data[\"div\"])\nsolution.point_data[\"vel\"] = np.pad(solution.point_data[\"vel\"], ((0, 0), (0, 1)))\nplotter.add_mesh(solution.extract_all_edges(), color=\"black\")\nplotter.add_mesh(\n    solution.streamlines_evenly_spaced_2D(\n        vectors=\"vel\",\n        step_length=0.3,\n        start_position=(0, 0, 0),\n        separating_distance=0.2,\n        separating_distance_ratio=0.1,\n        compute_vorticity=False,\n    ),\n    scalars=\"pre\",\n    log_scale=True,\n    show_scalar_bar=True,\n)\nplotter.view_xy()"
      ]
    }
  ],
  "metadata": {
    "kernelspec": {
      "display_name": "Python 3",
      "language": "python",
      "name": "python3"
    },
    "language_info": {
      "codemirror_mode": {
        "name": "ipython",
        "version": 3
      },
      "file_extension": ".py",
      "mimetype": "text/x-python",
      "name": "python",
      "nbconvert_exporter": "python",
      "pygments_lexer": "ipython3",
      "version": "3.13.5"
    }
  },
  "nbformat": 4,
  "nbformat_minor": 0
}