{
  "cells": [
    {
      "cell_type": "markdown",
      "metadata": {},
      "source": [
        "\n# Mixed Reaction Equation\n\nMixed reaction equation examples is exactly the same equation as the one\nin `sphx_glr_auto_examples_unsteady_plot_reaction.py`, but with the\ndifference being that now $u$ is taken to be a 2-form instead of a\n0-form. As such, there is now a real necessety to introduce a 1-form for\nits derivative.\n"
      ]
    },
    {
      "cell_type": "code",
      "execution_count": null,
      "metadata": {
        "collapsed": false
      },
      "outputs": [],
      "source": [
        "import numpy as np\nimport numpy.typing as npt\nimport pyvista as pv\nimport rmsh\nfrom matplotlib import pyplot as plt\nfrom mfv2d import (\n    KFormSystem,\n    KFormUnknown,\n    Mesh2D,\n    SolverSettings,\n    SystemSettings,\n    TimeSettings,\n    UnknownFormOrder,\n    solve_system_2d,\n)\nfrom scipy.integrate import trapezoid"
      ]
    },
    {
      "cell_type": "markdown",
      "metadata": {},
      "source": [
        "## Setup\n\nFor this case a different initial and final solutions are used as well.\nFor the initial solution given by equation :eq:`unsteady-reaction-mixed-initial` and\nthe final solution given by the equation :eq:`unsteady-reaction-mixed-final`.\nThe primary reason for using these is that because now due to the weak derivative\nthe boundary conditions will be imposed on the solution. Since they can not change in\ntime, these solutions were chosen, as they remain 0 on the boundaries of the domain\ngiven by $(x, y) \\in [-1, +1] \\times [-1, +1]$.\n\n\\begin{align}:label: unsteady-reaction-mixed-initial\n\n    u_\\mathrm{initial} = (1 - x^2) (1 - y^2)\\end{align}\n\n\\begin{align}:label: unsteady-reaction-mixed-final\n\n    u_\\mathrm{final} = (1 - x^4) (1 - y^4)\\end{align}\n\nAlso, for the value of the reaction coefficient the value of $\\alpha = 1$ is\ntaken. As for the duration, the time slice $t \\in [0, 5]$ was chosen.\n\n\n"
      ]
    },
    {
      "cell_type": "code",
      "execution_count": null,
      "metadata": {
        "collapsed": false
      },
      "outputs": [],
      "source": [
        "ALPHA = 1.0\nT_END = 5\n\n\ndef final_u(x: npt.NDArray[np.floating], y: npt.NDArray[np.floating]):\n    \"\"\"Screw initial solution.\"\"\"\n    return (1 - x**4) * (1 - y**4)\n\n\ndef final_q(x: npt.NDArray[np.floating], y: npt.NDArray[np.floating]):\n    \"\"\"Screw initial gradient.\"\"\"\n    return np.stack(\n        (\n            -4 * x**3 * (1 - y**4),\n            -4 * y**3 * (1 - x**4),\n        ),\n        axis=-1,\n    )\n\n\ndef initial_u(x: npt.NDArray[np.floating], y: npt.NDArray[np.floating]):\n    \"\"\"Steady state forcing.\"\"\"\n    return (1 - x**2) * (1 - y**2)\n\n\ndef initial_q(x: npt.NDArray[np.floating], y: npt.NDArray[np.floating]):\n    \"\"\"Steady state gradient.\"\"\"\n    return np.stack(\n        (\n            -2 * x * (1 - y**2),\n            -2 * y * (1 - x**2),\n        ),\n        axis=-1,\n    )"
      ]
    },
    {
      "cell_type": "markdown",
      "metadata": {},
      "source": [
        "## System Setup\n\nThe system setup is about what it was for the direct formulation, except for the\nsecond equation pertaining to the gradient of the solution no longer being optional.\nSince it includes integration by parts, it also includes weak boundary conditions.\n\n\n"
      ]
    },
    {
      "cell_type": "code",
      "execution_count": null,
      "metadata": {
        "collapsed": false
      },
      "outputs": [],
      "source": [
        "u = KFormUnknown(\"u\", UnknownFormOrder.FORM_ORDER_2)\nv = u.weight\nq = KFormUnknown(\"q\", UnknownFormOrder.FORM_ORDER_1)\np = q.weight\n\nsystem = KFormSystem(\n    ALPHA * (v * u) == ALPHA * (v * final_u),\n    p.derivative * u - p * q == p ^ final_u,\n    sorting=lambda f: f.order,\n)\nprint(system)"
      ]
    },
    {
      "cell_type": "markdown",
      "metadata": {},
      "source": [
        "## Make the Mesh\n\nAs mentioned above, the mesh used for this example is the\n$(x, y) \\in [-1, +1] \\times [-1, +1]$ square.\n\n\n"
      ]
    },
    {
      "cell_type": "code",
      "execution_count": null,
      "metadata": {
        "collapsed": false
      },
      "outputs": [],
      "source": [
        "N = 6\nP = 3\n\nn1 = N\nn2 = N\n\nrect_mesh, rx, ry = rmsh.create_elliptical_mesh(\n    rmsh.MeshBlock(\n        label=None,\n        bottom=rmsh.BoundaryCurve.from_line(n1, (-1, -1), (+1, -1)),\n        right=rmsh.BoundaryCurve.from_line(n2, (+1, -1), (+1, +1)),\n        top=rmsh.BoundaryCurve.from_line(n2, (+1, +1), (-1, +1)),\n        left=rmsh.BoundaryCurve.from_line(n2, (-1, +1), (-1, -1)),\n    )\n)\nassert rx < 1e-6 and ry < 1e-6\n\nmesh = Mesh2D(\n    P,\n    np.stack((rect_mesh.pos_x, rect_mesh.pos_y), axis=-1),\n    rect_mesh.lines + 1,\n    rect_mesh.surfaces,\n)"
      ]
    },
    {
      "cell_type": "markdown",
      "metadata": {},
      "source": [
        "## Run Unsteady Simulations\n\nWith the mesh and system defined, the simulations can be run. The run is done for\n10, 20, 50, 100, and 200 time steps.\n\n"
      ]
    },
    {
      "cell_type": "code",
      "execution_count": null,
      "metadata": {
        "collapsed": false
      },
      "outputs": [],
      "source": [
        "nt_vals = np.array((10, 20, 50, 100, 200))\nh1_err = np.zeros(nt_vals.size)\nl2_err = np.zeros(nt_vals.size)\ndt_vals = np.zeros(nt_vals.size)\n\nfor i_nt, nt in enumerate(nt_vals):\n    dt = float(T_END / nt)\n    solutions, stats = solve_system_2d(\n        mesh,\n        system_settings=SystemSettings(\n            system, initial_conditions={u: initial_u, q: initial_q}\n        ),\n        solver_settings=SolverSettings(\n            maximum_iterations=10, relative_tolerance=0, absolute_tolerance=1e-10\n        ),\n        time_settings=TimeSettings(dt=dt, nt=nt, time_march_relations={v: u}),\n        recon_order=25,\n    )\n\n    n_sol = len(solutions)\n    h1_err_vals = np.zeros(n_sol)\n    l2_err_vals = np.zeros(n_sol)\n    time_vals = np.zeros(n_sol)\n\n    for isol, sol in enumerate(solutions):\n        time = float(sol.field_data[\"time\"][0])\n\n        u_exact = initial_u(sol.points[:, 0], sol.points[:, 1]) * np.exp(\n            -ALPHA * time\n        ) + final_u(sol.points[:, 0], sol.points[:, 1]) * (1 - np.exp(-ALPHA * time))\n\n        q_exact = initial_q(sol.points[:, 0], sol.points[:, 1]) * np.exp(\n            -ALPHA * time\n        ) + final_q(sol.points[:, 0], sol.points[:, 1]) * (1 - np.exp(-ALPHA * time))\n        u_err = sol.point_data[\"u\"] - u_exact\n        q_err = sol.point_data[\"q\"] - q_exact\n        sol.point_data[\"u_err\"] = u_err**2\n        sol.point_data[\"q_err\"] = np.linalg.norm(q_err, axis=-1)\n        sol.point_data[\"u_real\"] = u_exact\n        sol.point_data[\"q_real\"] = q_exact\n\n        integrated = sol.integrate_data()\n        time_vals[isol] = time\n        l2_err_vals[isol] = np.sqrt(integrated.point_data[\"u_err\"][0])\n        h1_err_vals[isol] = integrated.point_data[\"q_err\"][0]\n        # sol.save(f\"sandbox/heat/res-{isol:04d}.vtu\")\n\n    h1_total_error = trapezoid(h1_err_vals, time_vals)\n    h1_err[i_nt] = h1_total_error\n    l2_total_error = trapezoid(l2_err_vals, time_vals)\n    l2_err[i_nt] = l2_total_error\n    dt_vals[i_nt] = dt\n    # print(f\"For {dt=} total error was {h1_total_error:.3e}.\")"
      ]
    },
    {
      "cell_type": "markdown",
      "metadata": {},
      "source": [
        "## Plot the Time Error\n\nThe total integrated time error in the two norms is now examined.\n\n### $H^1$ Norm\n\n"
      ]
    },
    {
      "cell_type": "code",
      "execution_count": null,
      "metadata": {
        "collapsed": false
      },
      "outputs": [],
      "source": [
        "k1, k0 = np.polyfit(np.log(dt_vals), np.log(h1_err), 1)\nk0 = np.exp(k0)\n\nfig, ax = plt.subplots(1, 1)\nax.scatter(dt_vals, h1_err)\nax.plot(\n    dt_vals,\n    k0 * dt_vals**k1,\n    linestyle=\"dashed\",\n    label=f\"${k0:.3g} \\\\cdot {{\\\\Delta t}}^{{{k1:+.3g}}}$\",\n)\nax.grid()\nax.legend()\nax.set(\n    xlabel=\"$\\\\Delta t$\",\n    ylabel=\"$\\\\int \\\\varepsilon_{H^{1}} {dt}$\",\n    xscale=\"log\",\n    yscale=\"log\",\n)\nax.xaxis_inverted()\nfig.tight_layout()\nplt.show()"
      ]
    },
    {
      "cell_type": "markdown",
      "metadata": {},
      "source": [
        "### $L^2$ Norm\n\n"
      ]
    },
    {
      "cell_type": "code",
      "execution_count": null,
      "metadata": {
        "collapsed": false
      },
      "outputs": [],
      "source": [
        "k1, k0 = np.polyfit(np.log(dt_vals), np.log(l2_err), 1)\nk0 = np.exp(k0)\n\nfig, ax = plt.subplots(1, 1)\nax.scatter(dt_vals, l2_err)\nax.plot(\n    dt_vals,\n    k0 * dt_vals**k1,\n    linestyle=\"dashed\",\n    label=f\"${k0:.3g} \\\\cdot {{\\\\Delta t}}^{{{k1:+.3g}}}$\",\n)\nax.grid()\nax.legend()\nax.set(\n    xlabel=\"$\\\\Delta t$\",\n    ylabel=\"$\\\\int \\\\varepsilon_{L^{1}} {dt}$\",\n    xscale=\"log\",\n    yscale=\"log\",\n)\nax.xaxis_inverted()\nfig.tight_layout()\nplt.show()"
      ]
    },
    {
      "cell_type": "markdown",
      "metadata": {},
      "source": [
        "## Plot Solution's Evolution\n\nWith :mod:`pyvista` the unsteady solution can even be plotted.\n\n"
      ]
    },
    {
      "cell_type": "code",
      "execution_count": null,
      "metadata": {
        "collapsed": false
      },
      "outputs": [],
      "source": [
        "plotter = pv.Plotter(off_screen=True, window_size=(1600, 800))\n\nplotter.open_gif(\"unsteady-reaction-mixed-solution.gif\", fps=30)\n\nfor sol in solutions:\n    sol.points[:, 2] = sol.point_data[\"u\"]\n    plotter.add_mesh(sol, scalars=None, name=\"solution\", show_scalar_bar=False)\n    plotter.add_text(f\"time = {sol.field_data['time'][0]:.1f}\", name=\"time\")\n    plotter.write_frame()\n\nplotter.close()"
      ]
    }
  ],
  "metadata": {
    "kernelspec": {
      "display_name": "Python 3",
      "language": "python",
      "name": "python3"
    },
    "language_info": {
      "codemirror_mode": {
        "name": "ipython",
        "version": 3
      },
      "file_extension": ".py",
      "mimetype": "text/x-python",
      "name": "python",
      "nbconvert_exporter": "python",
      "pygments_lexer": "ipython3",
      "version": "3.13.5"
    }
  },
  "nbformat": 4,
  "nbformat_minor": 0
}