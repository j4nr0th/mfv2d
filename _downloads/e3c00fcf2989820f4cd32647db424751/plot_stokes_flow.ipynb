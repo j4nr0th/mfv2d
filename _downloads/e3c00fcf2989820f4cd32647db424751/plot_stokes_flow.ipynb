{
  "cells": [
    {
      "cell_type": "markdown",
      "metadata": {},
      "source": [
        "\n# Stokes Flow\n\nStokes flow is a steady state solution to the Poisson equation, with an\nadded incompressibility constraint. It is also the symmetric part of\nNavier-Stokes equations, so solving it is the first step in solving\nNavier-Stokes.\n\nThe full system is given by :eq:`steady-stokes-equation`.\n\n\\begin{align}:label: steady-stokes-equation\n\n    \\omega - \\nabla \\times u = 0\n    -\\nabla \\omega + \\nabla p = f\n    \\nabla \\cdot u = 0\\end{align}\n\nWhen written with differential geometry, it becomes system\n:eq:`steady-stokes-diff-geom`. This can be written in the variational form as\nsystem :eq:`steady-stokes-variational`.\n\n\n\\begin{align}:label: steady-stokes-diff-geom\n\n    \\omega^{(0)} - \\star \\mathrm{d} \\star u^{(1)} = 0\n\n    -\\mathrm{d} \\omega^{(0)} + \\star \\mathrm{d} \\star p^{(2)} = f^{(1)}\n\n    \\mathrm{d} u^{(1)} = 0\\end{align}\n\n\\begin{align}:label: steady-stokes-variational\n\n    \\left(\\phi^{(0)}, \\omega^{(0)}\\right)_\\Omega - \\left(\\mathrm{d} p^{(0)}, u^{(1)}\\right)_\\Omega =\n    \\int_{\\partial \\Omega} \\phi^{(0)} \\wedge \\star u^{(1)}\\quad\\forall \\phi^{(0)} \\in \\Lambda^{(0)}(\\mathcal{M})\n\n    -\\left(v^{(1)}, \\mathrm{d} \\omega^{(0)}\\right)_\\Omega + \\left(\\mathrm{d} v^{(1)}, p^{(2)}\\right)_\\Omega =\n    \\left(v^{(1)}, f^{(1)}\\right)_\\Omega +\n    \\int_{\\partial \\Omega} v^{(1)} \\wedge \\star p^{(2)}\\quad\\forall v^{(1)} \\in \\Lambda^{(1)}(\\mathcal{M})\n\n    \\left(r^{(2)}, \\mathrm{d} u^{(1)}\\right)_\\Omega = 0 \\quad\\forall r^{(2)} \\in \\Lambda^{(2)}(\\mathcal{M})\\end{align}\n"
      ]
    },
    {
      "cell_type": "code",
      "execution_count": null,
      "metadata": {
        "collapsed": false
      },
      "outputs": [],
      "source": [
        "import numpy as np\nimport numpy.typing as npt\nimport pyvista as pv\nimport rmsh\nfrom matplotlib import pyplot as plt\nfrom mfv2d import (\n    BoundaryCondition2DSteady,\n    KFormSystem,\n    KFormUnknown,\n    Mesh2D,\n    SolverSettings,\n    SystemSettings,\n    solve_system_2d,\n)"
      ]
    },
    {
      "cell_type": "markdown",
      "metadata": {},
      "source": [
        "## Setup\n\nThe manufactured solution for this case is the velocity field given by\n:eq:`steady-stokes-velocity`, which gives the exact vorticity as per\n:eq:`steady-stokes-vorticity`. As for the pressure, it is given by FUCKING\nBLACK MAGIC, I HAVE NO CLUE WHY THE FUCK IT IS NON-ZERO! IS THIS SOME SORT\nOF A FUCKING CRUEL JOKE, GOD?\n\n\\begin{align}:label: steady-stokes-velocity\n\n    u^{(1)}(x, y) = \\sin(x) \\cos(y) dy - (- \\cos(x) \\sin(y)) dx\\end{align}\n\n\\begin{align}:label: steady-stokes-vorticity\n\n    \\omega^{(0)}(x, y) = - 2 \\sin(x) \\sin(y)\\end{align}\n\n\nThis together gives the momentum source as per :eq:`steady-stokes-source`.\n\n\\begin{align}:label: steady-stokes-source\n\n    f^{(1)} = -2 (\\sin(x) \\cos(y) dy - (-\\cos(x) \\sin(y)) dx)\\end{align}\n\n\n"
      ]
    },
    {
      "cell_type": "code",
      "execution_count": null,
      "metadata": {
        "collapsed": false
      },
      "outputs": [],
      "source": [
        "def vel_exact(x: npt.NDArray[np.float64], y: npt.NDArray[np.float64]):\n    \"\"\"Exact velocity.\"\"\"\n    return np.stack(\n        (np.sin(x) * np.cos(y), -np.cos(x) * np.sin(y)),\n        axis=-1,\n    )\n\n\n# TODO: ???\ndef prs_exact(x, y):\n    \"\"\"Exact pressure.\"\"\"\n    return 0 * x * y\n\n\ndef vor_exact(x, y):\n    \"\"\"Exact vorticity.\"\"\"\n    return -2 * np.sin(x) * np.sin(y) + 0 * x * y\n\n\ndef momentum_source(x, y):\n    \"\"\"Exact momentum equation source term.\"\"\"\n    return -2 * np.stack((np.sin(x) * np.cos(y), -np.cos(x) * np.sin(y)), axis=-1)"
      ]
    },
    {
      "cell_type": "markdown",
      "metadata": {},
      "source": [
        "## System Setup\n\nThe system is setup in the same way as described in :eq:`steady-stokes-variational`.\nAdditionally, boundary conditions will be applied for velocity both strongly (for normal\nvelocity) and weakly (for the tangential velocity).\n\nOne tweak made here is the inclusion of the ``div`` unknown, which is just equated to\nthe divergence of $u^{(1)}$. The reason for this is the demonstration in the later\nsection of how the divergence behaves.\n\n\n"
      ]
    },
    {
      "cell_type": "code",
      "execution_count": null,
      "metadata": {
        "collapsed": false
      },
      "outputs": [],
      "source": [
        "prs = KFormUnknown(2, \"prs\", 2)\nw_prs = prs.weight\nvel = KFormUnknown(2, \"vel\", 1)\nw_vel = vel.weight\nvor = KFormUnknown(2, \"vor\", 0)\nw_vor = vor.weight\ndiv = KFormUnknown(2, \"div\", 2)\nw_div = div.weight\n\nsystem = KFormSystem(\n    w_vor.derivative * vel + w_vor * vor == w_vor ^ vel_exact,\n    w_vel * vor.derivative + w_vel.derivative * prs\n    == (w_vel ^ prs_exact) + w_vel * momentum_source,\n    w_prs * vel.derivative == 0,\n    w_div * div - w_div * vel.derivative == 0,\n    sorting=lambda f: f.order,\n)\nprint(system)"
      ]
    },
    {
      "cell_type": "markdown",
      "metadata": {},
      "source": [
        "## Making the Mesh\n\nThe mesh is the same mess as for all the other examples\nof steady problems.\n\n\n"
      ]
    },
    {
      "cell_type": "code",
      "execution_count": null,
      "metadata": {
        "collapsed": false
      },
      "outputs": [],
      "source": [
        "N = 6\nn1 = N\nn2 = N\nm, rx, ry = rmsh.create_elliptical_mesh(\n    rmsh.MeshBlock(\n        None,\n        rmsh.BoundaryCurve.from_knots(\n            n1, (-1, -1), (-0.5, -1.1), (+0.5, -0.6), (+1, -1)\n        ),  # bottom\n        rmsh.BoundaryCurve.from_knots(\n            n2, (+1, -1), (+1.5, -0.7), (+1, 0.0), (+1, +1)\n        ),  # right\n        rmsh.BoundaryCurve.from_knots(\n            n1, (+1, +1), (0.5, 0.5), (-0.5, 0.5), (-1, +1)\n        ),  # top\n        rmsh.BoundaryCurve.from_knots(\n            n2, (-1, +1), (-0.5, 0.33), (-1, -0.5), (-1, -1)\n        ),  # left\n    )\n)\nassert rx < 1e-6 and ry < 1e-6\nfig, ax = plt.subplots(1, 1)\nxlim, ylim = m.plot(ax)\nax.set_xlim(1.1 * xlim[0], 1.1 * xlim[1])\nax.set_ylim(1.1 * ylim[0], 1.1 * ylim[1])\nax.set_aspect(\"equal\")\nplt.show()"
      ]
    },
    {
      "cell_type": "markdown",
      "metadata": {},
      "source": [
        "## Check the Results\n\nOne important property of MSEM is that the way it is formulated\nallows for exact strong derivatives. The consequence of that is that the\nincompressibility constraint given by equation :eq:`steady-stokes-divergence`\nis enforced *exactly*. Whatever solution is obtained is divergence free down\nto machine precision.\n\n\\begin{align}:label: steady-stokes-divergence\n\n    \\left(r^{(2)}, d u^{(1)} \\right)_\\Omega = 0 \\quad r^{(2)} \\in\n    \\Lambda^{(2)}(\\mathcal(M))\\end{align}\n\n\n"
      ]
    },
    {
      "cell_type": "code",
      "execution_count": null,
      "metadata": {
        "collapsed": false
      },
      "outputs": [],
      "source": [
        "pval = 3\nmsh = Mesh2D(pval, np.stack((m.pos_x, m.pos_y), axis=-1), m.lines + 1, m.surfaces)\n\nsolution, stats = solve_system_2d(\n    msh,\n    system_settings=SystemSettings(\n        system,\n        constrained_forms=[(0.0, prs)],\n        boundary_conditions=[\n            BoundaryCondition2DSteady(vel, msh.boundary_indices, vel_exact)\n        ],\n    ),\n    solver_settings=SolverSettings(\n        absolute_tolerance=1e-10, relative_tolerance=0, maximum_iterations=1\n    ),\n    recon_order=25,\n)\n\nsol: pv.UnstructuredGrid = solution[-1]\n\n\nplotter = pv.Plotter(off_screen=True, shape=(1, 1), window_size=(1600, 800))\n\nsol.point_data[\"div\"] = np.abs(sol.point_data[\"div\"])\nplotter.add_mesh(sol, scalars=\"div\", log_scale=True, show_scalar_bar=True)\nplotter.add_mesh(sol.extract_all_edges(), color=\"black\")\nplotter.view_xy()\nprint(f\"Highest value of divergence in the domain is {sol.point_data['div'].max():.3e}\")"
      ]
    },
    {
      "cell_type": "markdown",
      "metadata": {},
      "source": [
        "## Solve for Different Orders\n\nSo we solve for different orders. Before that, we remake the system without the\ndivergence form.\n\n"
      ]
    },
    {
      "cell_type": "code",
      "execution_count": null,
      "metadata": {
        "collapsed": false
      },
      "outputs": [],
      "source": [
        "system = KFormSystem(\n    w_vor.derivative * vel + w_vor * vor == w_vor ^ vel_exact,\n    w_vel * vor.derivative + w_vel.derivative * prs\n    == (w_vel ^ prs_exact) + w_vel * momentum_source,\n    w_prs * vel.derivative == 0,\n    sorting=lambda f: f.order,\n)\n\np_vals = np.arange(1, 7)\nh1_err = np.zeros(p_vals.size)\nl2_err = np.zeros(p_vals.size)\n\nfor ip, pval in enumerate(p_vals):\n    msh = Mesh2D(pval, np.stack((m.pos_x, m.pos_y), axis=-1), m.lines + 1, m.surfaces)\n\n    solution, stats = solve_system_2d(\n        msh,\n        system_settings=SystemSettings(\n            system,\n            constrained_forms=[(0.0, prs)],\n            boundary_conditions=[\n                BoundaryCondition2DSteady(vel, msh.boundary_indices, vel_exact)\n            ],\n        ),\n        solver_settings=SolverSettings(\n            absolute_tolerance=1e-10, relative_tolerance=0, maximum_iterations=1\n        ),\n        recon_order=25,\n    )\n\n    sol = solution[-1]\n    sol.point_data[\"vel_err2\"] = np.linalg.norm(\n        sol.point_data[\"vel\"] - vel_exact(sol.points[:, 0], sol.points[:, 1]), axis=-1\n    )\n    sol.point_data[\"vor_err2\"] = sol.point_data[\"vor\"] - vor_exact(\n        sol.points[:, 0], sol.points[:, 1]\n    )\n    sol.point_data[\"prs_err2\"] = np.abs(\n        sol.point_data[\"prs\"] - prs_exact(sol.points[:, 0], sol.points[:, 1])\n    )\n\n    total_error = sol.integrate_data()\n\n    l2_err[ip] = total_error.point_data[\"vel_err2\"][0]\n    h1_err[ip] = np.abs(total_error.point_data[\"vor_err2\"][0])\n    print(f\"Finished {pval=:d}\")"
      ]
    },
    {
      "cell_type": "markdown",
      "metadata": {},
      "source": [
        "## Plot Results\n\nHere we plot the results.\n\n### $H^1$ Norm\n\nThe vorticity error.\n\n\n"
      ]
    },
    {
      "cell_type": "code",
      "execution_count": null,
      "metadata": {
        "collapsed": false
      },
      "outputs": [],
      "source": [
        "k1, k0 = np.polyfit((p_vals), np.log(h1_err), 1)\nk1, k0 = np.exp(k1), np.exp(k0)\n\nprint(f\"Solution converges with p as: {k0:.3g} * ({k1:.3g}) ** p in H1 norm.\")\nplt.figure()\n\nplt.scatter(p_vals, h1_err)\nplt.semilogy(\n    p_vals,\n    k0 * k1**p_vals,\n    label=f\"${k0:.3g} \\\\cdot \\\\left( {{{k1:+.3g}}}^p \\\\right)$\",\n    linestyle=\"dashed\",\n)\nplt.gca().set(\n    xlabel=\"$p$\",\n    ylabel=\"$\\\\left|\\\\left| \\\\vec{\\\\omega} - \\\\bar{\\\\omega} \\\\right|\\\\right|$\",\n    yscale=\"log\",\n)\nplt.legend()\nplt.grid()\nplt.show()"
      ]
    },
    {
      "cell_type": "markdown",
      "metadata": {},
      "source": [
        "### $L^2$ Norm\n\nThe velocity error.\n\n"
      ]
    },
    {
      "cell_type": "code",
      "execution_count": null,
      "metadata": {
        "collapsed": false
      },
      "outputs": [],
      "source": [
        "k1, k0 = np.polyfit((p_vals), np.log(l2_err), 1)\nk1, k0 = np.exp(k1), np.exp(k0)\n\nprint(f\"Solution converges with p as: {k0:.3g} * ({k1:.3g}) ** p in L2 norm.\")\nplt.figure()\n\nplt.scatter(p_vals, l2_err)\nplt.semilogy(\n    p_vals,\n    k0 * k1**p_vals,\n    label=f\"${k0:.3g} \\\\cdot \\\\left( {{{k1:+.3g}}}^p \\\\right)$\",\n    linestyle=\"dashed\",\n)\nplt.gca().set(\n    xlabel=\"$p$\",\n    ylabel=\"$\\\\varepsilon_{L^2}$\",\n    yscale=\"log\",\n)\nplt.legend()\nplt.grid()\nplt.show()"
      ]
    }
  ],
  "metadata": {
    "kernelspec": {
      "display_name": "Python 3",
      "language": "python",
      "name": "python3"
    },
    "language_info": {
      "codemirror_mode": {
        "name": "ipython",
        "version": 3
      },
      "file_extension": ".py",
      "mimetype": "text/x-python",
      "name": "python",
      "nbconvert_exporter": "python",
      "pygments_lexer": "ipython3",
      "version": "3.13.5"
    }
  },
  "nbformat": 4,
  "nbformat_minor": 0
}