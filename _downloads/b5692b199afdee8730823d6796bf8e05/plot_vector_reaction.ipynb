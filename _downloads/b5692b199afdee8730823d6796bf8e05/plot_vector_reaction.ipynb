{
  "cells": [
    {
      "cell_type": "markdown",
      "metadata": {},
      "source": [
        "\n# Vector Reaction Equation\n\nVector reaction equation examples is solving the same equations as\n`sphx_glr_auto_examples_unsteady_plot_reaction.py` and\n`sphx_glr_auto_examples_unsteady_plot_reaction_mixed.py`, but with the\n$u$ being a 1-form. This does just makes the solution have two\ndecoupled components, which are solved for independently.\n"
      ]
    },
    {
      "cell_type": "code",
      "execution_count": null,
      "metadata": {
        "collapsed": false
      },
      "outputs": [],
      "source": [
        "import numpy as np\nimport numpy.typing as npt\nimport rmsh\nfrom matplotlib import pyplot as plt\nfrom mfv2d import (\n    KFormSystem,\n    KFormUnknown,\n    Mesh2D,\n    SolverSettings,\n    SystemSettings,\n    TimeSettings,\n    solve_system_2d,\n)\nfrom scipy.integrate import trapezoid"
      ]
    },
    {
      "cell_type": "markdown",
      "metadata": {},
      "source": [
        "## Setup\n\nFor this case a initial and final solutions are given by equations\n:eq:`unsteady-reaction-vector-initial` and :eq:`unsteady-reaction-vector-final`\nrespectivly.\n\n\\begin{align}:label: unsteady-reaction-vector-initial\n\n    u_\\mathrm{initial}^{(1)} = 2 x y dy - x^2 y dx\\end{align}\n\n\\begin{align}:label: unsteady-reaction-vector-final\n\n    u_\\mathrm{final}^{(1)} = -x^2 y - (-x y) dx\\end{align}\n\nAs for the value of the reaction coefficient and the time slice,\nthe value of $\\alpha = 0.5$ and the time slice $t \\in [0, 5]$\nwere chosen.\n\n\n"
      ]
    },
    {
      "cell_type": "code",
      "execution_count": null,
      "metadata": {
        "collapsed": false
      },
      "outputs": [],
      "source": [
        "ALPHA = 0.5\nT_END = 5\n\n\ndef initial_u(x: npt.NDArray[np.floating], y: npt.NDArray[np.floating]):\n    \"\"\"Screw initial solution.\"\"\"\n    return np.stack((2 * x * y, x**2 * y), axis=-1)\n\n\ndef final_u(x: npt.NDArray[np.floating], y: npt.NDArray[np.floating]):\n    \"\"\"Steady state solution.\"\"\"\n    return np.stack(\n        (\n            -(x**2) * y,\n            -x * y,\n        ),\n        axis=-1,\n    )"
      ]
    },
    {
      "cell_type": "markdown",
      "metadata": {},
      "source": [
        "## System Setup\n\nThe system setup the same as for other reaction equations. The only difference is that\nfor this case no second equation for the gradients were introduced.\n\n\n"
      ]
    },
    {
      "cell_type": "code",
      "execution_count": null,
      "metadata": {
        "collapsed": false
      },
      "outputs": [],
      "source": [
        "u = KFormUnknown(2, \"u\", 1)\nv = u.weight\n\nsystem = KFormSystem(\n    ALPHA * (v * u) == ALPHA * (v * final_u),\n    sorting=lambda f: f.order,\n)"
      ]
    },
    {
      "cell_type": "markdown",
      "metadata": {},
      "source": [
        "## Make the Mesh\n\nNext the mesh would be created. In this case, it was taken to be a\nconcavely deformed square.\n\n\n\n"
      ]
    },
    {
      "cell_type": "code",
      "execution_count": null,
      "metadata": {
        "collapsed": false
      },
      "outputs": [],
      "source": [
        "N = 6\nP = 3\n\nn1 = N\nn2 = N\nrect_mesh, rx, ry = rmsh.create_elliptical_mesh(\n    rmsh.MeshBlock(\n        label=None,\n        bottom=rmsh.BoundaryCurve.from_knots(n1, (-1, -1), (0, -0.5), (+1, -1)),\n        right=rmsh.BoundaryCurve.from_knots(n2, (+1, -1), (+0.5, 0), (+1, +1)),\n        top=rmsh.BoundaryCurve.from_knots(n2, (+1, +1), (0, +0.5), (-1, +1)),\n        left=rmsh.BoundaryCurve.from_knots(n2, (-1, +1), (-0.5, 0), (-1, -1)),\n    )\n)\nassert rx < 1e-6 and ry < 1e-6\n\nmesh = Mesh2D(\n    P,\n    np.stack((rect_mesh.pos_x, rect_mesh.pos_y), axis=-1),\n    rect_mesh.lines + 1,\n    rect_mesh.surfaces,\n)\n\nfig, ax = plt.subplots(1, 1)\n\nxlim, ylim = rect_mesh.plot(ax)\nax.set(\n    aspect=\"equal\",\n    xlim=(1.1 * xlim[0], 1.1 * xlim[1]),\n    ylim=(1.1 * ylim[0], 1.1 * ylim[1]),\n    xlabel=\"$x$\",\n    ylabel=\"$y$\",\n)\nfig.tight_layout()\nplt.show()"
      ]
    },
    {
      "cell_type": "markdown",
      "metadata": {},
      "source": [
        "## Run Unsteady Simulations\n\nWith the mesh and system defined, the simulations can be run. The run is done for\n10, 20, 50, 100, and 200 time steps.\n\n"
      ]
    },
    {
      "cell_type": "code",
      "execution_count": null,
      "metadata": {
        "collapsed": false
      },
      "outputs": [],
      "source": [
        "nt_vals = np.array((10, 20, 50, 100, 200))\nl2_err = np.zeros(nt_vals.size)\ndt_vals = np.zeros(nt_vals.size)\n\nfor i_nt, nt in enumerate(nt_vals):\n    dt = float(T_END / nt)\n    solutions, stats = solve_system_2d(\n        mesh,\n        system_settings=SystemSettings(system, initial_conditions={u: initial_u}),\n        solver_settings=SolverSettings(\n            maximum_iterations=10, relative_tolerance=0, absolute_tolerance=1e-10\n        ),\n        time_settings=TimeSettings(dt=dt, nt=nt, time_march_relations={v: u}),\n    )\n\n    n_sol = len(solutions)\n    l2_err_vals = np.zeros(n_sol)\n    time_vals = np.zeros(n_sol)\n\n    for isol, sol in enumerate(solutions):\n        time = float(sol.field_data[\"time\"][0])\n\n        u_exact = initial_u(sol.points[:, 0], sol.points[:, 1]) * np.exp(\n            -ALPHA * time\n        ) + final_u(sol.points[:, 0], sol.points[:, 1]) * (1 - np.exp(-ALPHA * time))\n\n        u_err = sol.point_data[\"u\"] - u_exact\n\n        sol.point_data[\"u_err\"] = np.linalg.norm(u_err, axis=-1)\n        sol.point_data[\"u_real\"] = u_exact\n\n        integrated = sol.integrate_data()\n        err = float(integrated.point_data[\"u_err\"][0])\n        time_vals[isol] = time\n        l2_err_vals[isol] = err\n\n    total_time_error = trapezoid(l2_err_vals, time_vals)\n    l2_err[i_nt] = total_time_error\n    dt_vals[i_nt] = dt\n    print(f\"For {dt=} total error was {total_time_error:.3e}.\")"
      ]
    },
    {
      "cell_type": "markdown",
      "metadata": {},
      "source": [
        "## Plot the Time Error\n\nThe total integrated time error in the two norms is now examined.\n\n\n"
      ]
    },
    {
      "cell_type": "code",
      "execution_count": null,
      "metadata": {
        "collapsed": false
      },
      "outputs": [],
      "source": [
        "k1, k0 = np.polyfit(np.log(dt_vals), np.log(l2_err), 1)\nk0 = np.exp(k0)\n\nfig, ax = plt.subplots(1, 1)\nax.scatter(dt_vals, l2_err)\nax.plot(\n    dt_vals,\n    k0 * dt_vals**k1,\n    linestyle=\"dashed\",\n    label=f\"${k0:.3g} \\\\cdot {{\\\\Delta t}}^{{{k1:+.3g}}}$\",\n)\nax.grid()\nax.legend()\nax.set(\n    xlabel=\"$\\\\Delta t$\",\n    ylabel=\"$\\\\int \\\\varepsilon_{L^{1}} {dt}$\",\n    xscale=\"log\",\n    yscale=\"log\",\n)\nax.xaxis_inverted()\nfig.tight_layout()\nplt.show()"
      ]
    }
  ],
  "metadata": {
    "kernelspec": {
      "display_name": "Python 3",
      "language": "python",
      "name": "python3"
    },
    "language_info": {
      "codemirror_mode": {
        "name": "ipython",
        "version": 3
      },
      "file_extension": ".py",
      "mimetype": "text/x-python",
      "name": "python",
      "nbconvert_exporter": "python",
      "pygments_lexer": "ipython3",
      "version": "3.13.5"
    }
  },
  "nbformat": 4,
  "nbformat_minor": 0
}