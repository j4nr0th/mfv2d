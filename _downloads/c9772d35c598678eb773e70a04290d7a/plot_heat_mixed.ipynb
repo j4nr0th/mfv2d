{
  "cells": [
    {
      "cell_type": "markdown",
      "metadata": {},
      "source": [
        "\n# Unsteady Heat Equations in Mixed Formulation\n\nThis example is exactly the same as\n`sphx_glr_auto_examples_unsteady_plot_heat_direct.py`. As such, only\ndifferences from that one will be mentioned.\n"
      ]
    },
    {
      "cell_type": "code",
      "execution_count": null,
      "metadata": {
        "collapsed": false
      },
      "outputs": [],
      "source": [
        "import numpy as np\nimport numpy.typing as npt\nimport rmsh\nfrom matplotlib import pyplot as plt\nfrom mfv2d import (\n    KFormSystem,\n    KFormUnknown,\n    SolverSettings,\n    SystemSettings,\n    TimeSettings,\n    UnknownFormOrder,\n    mesh_create,\n    solve_system_2d,\n)\nfrom scipy.integrate import trapezoid"
      ]
    },
    {
      "cell_type": "markdown",
      "metadata": {},
      "source": [
        "## Setup\n\nSince the mixed formulation naturally also gives the graident,\nit is also computed here.\n\n\n\n\n\n"
      ]
    },
    {
      "cell_type": "code",
      "execution_count": null,
      "metadata": {
        "collapsed": false
      },
      "outputs": [],
      "source": [
        "ALPHA = 0.02\nBETA = 1\n\n\ndef steady_u(x: npt.NDArray[np.floating], y: npt.NDArray[np.floating]):\n    \"\"\"Steady state solution.\"\"\"\n    return np.cos(np.pi * x / 2) * np.cos(np.pi * y / 2)\n\n\ndef steady_q(x: npt.NDArray[np.floating], y: npt.NDArray[np.floating]):\n    \"\"\"Steady state gradient.\"\"\"\n    return np.stack(\n        (\n            -np.pi / 2 * np.sin(np.pi * x / 2) * np.cos(np.pi * y / 2),\n            -np.pi / 2 * np.cos(np.pi * x / 2) * np.sin(np.pi * y / 2),\n        ),\n        axis=-1,\n    )\n\n\nu = KFormUnknown(\"u\", UnknownFormOrder.FORM_ORDER_2)\nv = u.weight\nq = KFormUnknown(\"q\", UnknownFormOrder.FORM_ORDER_1)\np = q.weight\n\nsystem = KFormSystem(\n    p.derivative * u - p * q == p ^ steady_u,\n    ALPHA * (v * q.derivative)\n    == BETA * (v * steady_u) - (BETA - ALPHA * np.pi**2 / 2) * (v * u),\n    sorting=lambda f: f.order,\n)\nprint(system)\n\nN = 13\nP = 3\nT_END = 2\n\nn1 = N\nn2 = N\nrect_mesh, rx, ry = rmsh.create_elliptical_mesh(\n    rmsh.MeshBlock(\n        label=None,\n        bottom=rmsh.BoundaryCurve.from_line(n1, (-1, -1), (+1, -1)),\n        right=rmsh.BoundaryCurve.from_line(n2, (+1, -1), (+1, +1)),\n        top=rmsh.BoundaryCurve.from_line(n2, (+1, +1), (-1, +1)),\n        left=rmsh.BoundaryCurve.from_line(n2, (-1, +1), (-1, -1)),\n    )\n)\nassert rx < 1e-6 and ry < 1e-6\nmesh = mesh_create(\n    P,\n    np.stack((rect_mesh.pos_x, rect_mesh.pos_y), axis=-1),\n    rect_mesh.lines + 1,\n    rect_mesh.surfaces,\n)\n\nnt_vals = np.logspace(start=1, stop=5, num=6, base=2, dtype=np.uint32)\nh1_err = np.zeros(nt_vals.size)\nl2_err = np.zeros(nt_vals.size)\ndt_vals = np.zeros(nt_vals.size)\n\nfor i_nt, nt in enumerate(nt_vals):\n    dt = float(T_END / nt)\n    solutions, stats, mesh = solve_system_2d(\n        mesh,\n        system_settings=SystemSettings(system),\n        solver_settings=SolverSettings(\n            maximum_iterations=20, relative_tolerance=0, absolute_tolerance=1e-13\n        ),\n        time_settings=TimeSettings(dt=dt, nt=nt, time_march_relations={v: u}),\n        recon_order=25,\n    )\n\n    n_sol = len(solutions)\n    h1_vals = np.zeros(n_sol)\n    l2_vals = np.zeros(n_sol)\n    time_vals = np.zeros(n_sol)\n    for isol, sol in enumerate(solutions):\n        time = float(sol.field_data[\"time\"][0])\n\n        u_exact = steady_u(sol.points[:, 0], sol.points[:, 1]) * (\n            1 - np.exp(-BETA * time)\n        )\n        u_err = sol.point_data[\"u\"] - u_exact\n        sol.point_data[\"u_err\"] = u_err**2\n        sol.point_data[\"u_exact\"] = u_exact\n\n        q_exact = steady_q(sol.points[:, 0], sol.points[:, 1]) * (\n            1 - np.exp(-BETA * time)\n        )\n        q_err = sol.point_data[\"q\"] - q_exact\n        sol.point_data[\"q_err\"] = np.linalg.norm(q_err, axis=-1)\n        sol.point_data[\"q_exact\"] = q_exact\n\n        integrated = sol.integrate_data()\n        time_vals[isol] = time\n        h1_vals[isol] = integrated.point_data[\"q_err\"][0]\n        l2_vals[isol] = np.sqrt(integrated.point_data[\"u_err\"])[0]\n        # print(f\"Error at time {time:.3g} is {err:.3e}\")\n\n    h1_total_error = trapezoid(h1_vals, time_vals)\n    l2_total_error = trapezoid(l2_vals, time_vals)\n    h1_err[i_nt] = h1_total_error\n    l2_err[i_nt] = l2_total_error\n    dt_vals[i_nt] = dt\n    print(f\"For {dt=:.3g} total error was {h1_total_error:.3e}.\")"
      ]
    },
    {
      "cell_type": "markdown",
      "metadata": {},
      "source": [
        "## Plotting the Error\n\nNow we plot the error. As you can see, we magically got\nanother order of accuracy out of fucking thin air. If I had\nto guess it is related to the fact that the time integration\nis symplectic.\n\n### $H^1$ Norm\n\n"
      ]
    },
    {
      "cell_type": "code",
      "execution_count": null,
      "metadata": {
        "collapsed": false
      },
      "outputs": [],
      "source": [
        "k1, k0 = np.polyfit(np.log(dt_vals), np.log(h1_err), 1)\nk0 = np.exp(k0)\n\nfig, ax = plt.subplots(1, 1)\nax.scatter(dt_vals, h1_err)\nax.plot(\n    dt_vals,\n    k0 * dt_vals**k1,\n    linestyle=\"dashed\",\n    label=f\"${k0:.3g} \\\\cdot {{\\\\Delta t}}^{{{k1:+.3g}}}$\",\n)\nax.grid()\nax.legend()\nax.set(\n    xlabel=\"$\\\\Delta t$\",\n    ylabel=\"$\\\\int \\\\left|q - \\\\bar{q}\\\\right| {dt}$\",\n    xscale=\"log\",\n    yscale=\"log\",\n)\nax.xaxis_inverted()\nfig.tight_layout()\nplt.show()"
      ]
    },
    {
      "cell_type": "markdown",
      "metadata": {},
      "source": [
        "### $L^2$ Norm\n\n"
      ]
    },
    {
      "cell_type": "code",
      "execution_count": null,
      "metadata": {
        "collapsed": false
      },
      "outputs": [],
      "source": [
        "k1, k0 = np.polyfit(np.log(dt_vals), np.log(l2_err), 1)\nk0 = np.exp(k0)\n\nfig, ax = plt.subplots(1, 1)\nax.scatter(dt_vals, l2_err)\nax.plot(\n    dt_vals,\n    k0 * dt_vals**k1,\n    linestyle=\"dashed\",\n    label=f\"${k0:.3g} \\\\cdot {{\\\\Delta t}}^{{{k1:+.3g}}}$\",\n)\nax.grid()\nax.legend()\nax.set(\n    xlabel=\"$\\\\Delta t$\",\n    ylabel=\"$\\\\int \\\\left|u - \\\\bar{u}\\\\right| {dt}$\",\n    xscale=\"log\",\n    yscale=\"log\",\n)\nax.xaxis_inverted()\nfig.tight_layout()\nplt.show()"
      ]
    }
  ],
  "metadata": {
    "kernelspec": {
      "display_name": "Python 3",
      "language": "python",
      "name": "python3"
    },
    "language_info": {
      "codemirror_mode": {
        "name": "ipython",
        "version": 3
      },
      "file_extension": ".py",
      "mimetype": "text/x-python",
      "name": "python",
      "nbconvert_exporter": "python",
      "pygments_lexer": "ipython3",
      "version": "3.13.5"
    }
  },
  "nbformat": 4,
  "nbformat_minor": 0
}